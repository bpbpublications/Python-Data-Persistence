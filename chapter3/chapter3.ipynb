{
 "cells": [
  {
   "cell_type": "markdown",
   "metadata": {},
   "source": [
    "# <center>Chapter 3</center>\n",
    "## <center>Structured Python</center>"
   ]
  },
  {
   "cell_type": "markdown",
   "metadata": {},
   "source": [
    "### Example 3.1\n",
    "Save following code as combinations.py and run from command prompt\n",
    "\n",
    "<b>python combinations.py</b>"
   ]
  },
  {
   "cell_type": "code",
   "execution_count": 62,
   "metadata": {},
   "outputs": [
    {
     "name": "stdout",
     "output_type": "stream",
     "text": [
      "enter n..5\n",
      "enter r..2\n",
      "C(5,2)=10.0\n"
     ]
    }
   ],
   "source": [
    "#combinations.py\n",
    "n=int(input(\"enter n..\"))\n",
    "r=int(input(\"enter r..\"))\n",
    "t=n-r\n",
    "#calculating factorial of n - fn\n",
    "fn=1\n",
    "for i in range(1,n+1):\n",
    "        fn=fn*i\n",
    "#calculating factorial of r - fr\n",
    "fr=1\n",
    "for i in range(1,r+1):\n",
    "        fr=fr*i\n",
    "#calculating factorial of t - tr\n",
    "ft=1\n",
    "for i in range(1,t+1):\n",
    "        ft=ft*i\n",
    "combinations=fn/(fr*ft)\n",
    "print (\"C({},{})={}\".format(n,r, combinations))"
   ]
  },
  {
   "cell_type": "markdown",
   "metadata": {},
   "source": [
    "### Example 3.2\n",
    "Save following code as combinations-2.py and run from command prompt\n",
    "\n",
    "<b>python combinations-2.py</b>"
   ]
  },
  {
   "cell_type": "code",
   "execution_count": 63,
   "metadata": {},
   "outputs": [
    {
     "name": "stdout",
     "output_type": "stream",
     "text": [
      "enter n..5\n",
      "enter r..2\n",
      "C(5,2)=10.0\n"
     ]
    }
   ],
   "source": [
    "#combinations-2.py\n",
    "\n",
    "#calculate factorial\n",
    "def factorial(x):\n",
    "        f=1\n",
    "        for i in range(1,x+1):\n",
    "                f=f*i\n",
    "        return f\n",
    "\n",
    "n=int(input(\"enter n..\"))\n",
    "r=int(input(\"enter r..\"))\n",
    "combinations=factorial(n)/(factorial(r)*factorial(n-r))\n",
    "print (\"C({},{})={}\".format(n,r, combinations))"
   ]
  },
  {
   "cell_type": "markdown",
   "metadata": {},
   "source": [
    "### Example 3.3"
   ]
  },
  {
   "cell_type": "code",
   "execution_count": 64,
   "metadata": {},
   "outputs": [
    {
     "data": {
      "text/plain": [
       "10.0"
      ]
     },
     "execution_count": 64,
     "metadata": {},
     "output_type": "execute_result"
    }
   ],
   "source": [
    ">>> import math\n",
    ">>> math.sqrt(100)"
   ]
  },
  {
   "cell_type": "markdown",
   "metadata": {},
   "source": [
    "### Example 3.5"
   ]
  },
  {
   "cell_type": "code",
   "execution_count": 65,
   "metadata": {},
   "outputs": [
    {
     "data": {
      "text/plain": [
       "10.0"
      ]
     },
     "execution_count": 65,
     "metadata": {},
     "output_type": "execute_result"
    }
   ],
   "source": [
    ">>> from math import sqrt\n",
    ">>> sqrt(100)"
   ]
  },
  {
   "cell_type": "markdown",
   "metadata": {},
   "source": [
    "### Example 3.6"
   ]
  },
  {
   "cell_type": "code",
   "execution_count": 66,
   "metadata": {},
   "outputs": [
    {
     "data": {
      "text/plain": [
       "0.5000010603626028"
      ]
     },
     "execution_count": 66,
     "metadata": {},
     "output_type": "execute_result"
    }
   ],
   "source": [
    ">>> import math\n",
    ">>> math.sin(0.5236)"
   ]
  },
  {
   "cell_type": "code",
   "execution_count": 67,
   "metadata": {},
   "outputs": [
    {
     "data": {
      "text/plain": [
       "0.866024791582939"
      ]
     },
     "execution_count": 67,
     "metadata": {},
     "output_type": "execute_result"
    }
   ],
   "source": [
    ">>> math.cos(0.5236)"
   ]
  },
  {
   "cell_type": "code",
   "execution_count": 68,
   "metadata": {},
   "outputs": [
    {
     "data": {
      "text/plain": [
       "0.5773519017263813"
      ]
     },
     "execution_count": 68,
     "metadata": {},
     "output_type": "execute_result"
    }
   ],
   "source": [
    ">>> math.tan(0.5236)"
   ]
  },
  {
   "cell_type": "markdown",
   "metadata": {},
   "source": [
    "### Example 3.7"
   ]
  },
  {
   "cell_type": "code",
   "execution_count": 69,
   "metadata": {},
   "outputs": [
    {
     "data": {
      "text/plain": [
       "0.5235987755982988"
      ]
     },
     "execution_count": 69,
     "metadata": {},
     "output_type": "execute_result"
    }
   ],
   "source": [
    ">>> math.radians(30)"
   ]
  },
  {
   "cell_type": "code",
   "execution_count": 70,
   "metadata": {},
   "outputs": [
    {
     "data": {
      "text/plain": [
       "30.021842549264875"
      ]
     },
     "execution_count": 70,
     "metadata": {},
     "output_type": "execute_result"
    }
   ],
   "source": [
    ">>> math.degrees(0.52398)"
   ]
  },
  {
   "cell_type": "markdown",
   "metadata": {},
   "source": [
    "### Example 3.8"
   ]
  },
  {
   "cell_type": "code",
   "execution_count": 71,
   "metadata": {},
   "outputs": [
    {
     "data": {
      "text/plain": [
       "2.718281828459045"
      ]
     },
     "execution_count": 71,
     "metadata": {},
     "output_type": "execute_result"
    }
   ],
   "source": [
    ">>> math.e"
   ]
  },
  {
   "cell_type": "code",
   "execution_count": 72,
   "metadata": {},
   "outputs": [
    {
     "data": {
      "text/plain": [
       "3.141592653589793"
      ]
     },
     "execution_count": 72,
     "metadata": {},
     "output_type": "execute_result"
    }
   ],
   "source": [
    ">>> math.pi"
   ]
  },
  {
   "cell_type": "markdown",
   "metadata": {},
   "source": [
    "### Example 3.9"
   ]
  },
  {
   "cell_type": "code",
   "execution_count": 73,
   "metadata": {},
   "outputs": [
    {
     "data": {
      "text/plain": [
       "5.0"
      ]
     },
     "execution_count": 73,
     "metadata": {},
     "output_type": "execute_result"
    }
   ],
   "source": [
    ">>> math.sqrt(25)"
   ]
  },
  {
   "cell_type": "code",
   "execution_count": 74,
   "metadata": {},
   "outputs": [
    {
     "data": {
      "text/plain": [
       "25.0"
      ]
     },
     "execution_count": 74,
     "metadata": {},
     "output_type": "execute_result"
    }
   ],
   "source": [
    ">>> math.pow(5,2)"
   ]
  },
  {
   "cell_type": "code",
   "execution_count": 75,
   "metadata": {},
   "outputs": [
    {
     "data": {
      "text/plain": [
       "2.302585092994046"
      ]
     },
     "execution_count": 75,
     "metadata": {},
     "output_type": "execute_result"
    }
   ],
   "source": [
    ">>> math.log(10) #natural logarithm using math.e as base"
   ]
  },
  {
   "cell_type": "code",
   "execution_count": 76,
   "metadata": {},
   "outputs": [
    {
     "data": {
      "text/plain": [
       "2.0"
      ]
     },
     "execution_count": 76,
     "metadata": {},
     "output_type": "execute_result"
    }
   ],
   "source": [
    ">>> math.log10(100) #standard logarithm using 10 as base"
   ]
  },
  {
   "cell_type": "markdown",
   "metadata": {},
   "source": [
    "### Example 3.10"
   ]
  },
  {
   "cell_type": "markdown",
   "metadata": {},
   "source": [
    ">>> math.remainder(10,6) #Difference between numerator and closest integer multiple of denominator"
   ]
  },
  {
   "cell_type": "code",
   "execution_count": 77,
   "metadata": {},
   "outputs": [
    {
     "data": {
      "text/plain": [
       "1"
      ]
     },
     "execution_count": 77,
     "metadata": {},
     "output_type": "execute_result"
    }
   ],
   "source": [
    ">>> math.floor(10/6) #Returns the largest integer <= given float"
   ]
  },
  {
   "cell_type": "code",
   "execution_count": 78,
   "metadata": {},
   "outputs": [
    {
     "data": {
      "text/plain": [
       "2"
      ]
     },
     "execution_count": 78,
     "metadata": {},
     "output_type": "execute_result"
    }
   ],
   "source": [
    ">>> math.ceil(10/6) #Returns the smallest integer >= float"
   ]
  },
  {
   "cell_type": "markdown",
   "metadata": {},
   "source": [
    "### Example 3.13\n",
    "Save following code as example.py and run from command prompt\n",
    "\n",
    "<b>python example.py java</b>"
   ]
  },
  {
   "cell_type": "code",
   "execution_count": 79,
   "metadata": {},
   "outputs": [
    {
     "name": "stdout",
     "output_type": "stream",
     "text": [
      "Hello -f\n"
     ]
    }
   ],
   "source": [
    "#example.py\n",
    "import sys\n",
    "args=sys.argv\n",
    "print (\"Hello {}\".format(sys.argv[1]))"
   ]
  },
  {
   "cell_type": "markdown",
   "metadata": {},
   "source": [
    "### Example 3.15\n",
    "Save following code as functon-1.py and run from command prompt\n",
    "\n",
    "<b>python function-1.py</b>"
   ]
  },
  {
   "cell_type": "code",
   "execution_count": 80,
   "metadata": {},
   "outputs": [
    {
     "name": "stdout",
     "output_type": "stream",
     "text": [
      "Beautiful is better than ugly. Explicit is better than implicit.\n",
      "Simple is better than complex. Complex is better than complicated.\n",
      "Docstring: Zen of Python\n"
     ]
    }
   ],
   "source": [
    "#function-1.py\n",
    "def zen():\n",
    "    'Zen of Python'\n",
    "    print ('Beautiful is better than ugly. Explicit is better than implicit.')\n",
    "    print ('Simple is better than complex. Complex is better than complicated.')\n",
    "    return\n",
    "#call above function\n",
    "zen()\n",
    "print ('Docstring:', zen.__doc__)"
   ]
  },
  {
   "cell_type": "markdown",
   "metadata": {},
   "source": [
    "### Example 3.16\n",
    "Save following code as functon-2.py and run from command prompt\n",
    "\n",
    "<b>python function-2.py</b>"
   ]
  },
  {
   "cell_type": "code",
   "execution_count": 81,
   "metadata": {},
   "outputs": [
    {
     "name": "stdout",
     "output_type": "stream",
     "text": [
      "enter name of a language..Python\n",
      "I love Python\n"
     ]
    }
   ],
   "source": [
    "#function-2.py\n",
    "def LoveU(lang):\n",
    "        'function with one parameter'\n",
    "        print ('I love {}'.format(lang))\n",
    "        return\n",
    "#call above function\n",
    "lang=input('enter name of a language..')\n",
    "LoveU(lang)"
   ]
  },
  {
   "cell_type": "markdown",
   "metadata": {},
   "source": [
    "### Example 3.17\n",
    "Save following code as func-with-return.py and run from command prompt\n",
    "\n",
    "<b>python func-with-return.py</b>"
   ]
  },
  {
   "cell_type": "code",
   "execution_count": 82,
   "metadata": {},
   "outputs": [
    {
     "name": "stdout",
     "output_type": "stream",
     "text": [
      "enter a number..100\n",
      "enter another number..200\n",
      "addition of 100 and 200 is 300\n"
     ]
    }
   ],
   "source": [
    "#func-with-return.py\n",
    "def add(num1,num2):\n",
    "        'function assumes a two numbers to be passed'\n",
    "        result=num1+num2\n",
    "        return result\n",
    "#call above function\n",
    "x=int(input('enter a number..'))\n",
    "y=int(input('enter another number..'))\n",
    "z=add(x,y)\n",
    "print ('addition of {} and {} is {}'.format(x,y,z))"
   ]
  },
  {
   "cell_type": "markdown",
   "metadata": {},
   "source": [
    "### Example 3.18\n",
    "Save following code as function-3.py and run from command prompt\n",
    "\n",
    "<b>python function-3.py</b>"
   ]
  },
  {
   "cell_type": "code",
   "execution_count": 83,
   "metadata": {},
   "outputs": [
    {
     "ename": "TypeError",
     "evalue": "LoveU() takes 2 positional arguments but 3 were given",
     "output_type": "error",
     "traceback": [
      "\u001b[0;31m---------------------------------------------------------------------------\u001b[0m",
      "\u001b[0;31mTypeError\u001b[0m                                 Traceback (most recent call last)",
      "\u001b[0;32m<ipython-input-83-4692fd93641f>\u001b[0m in \u001b[0;36m<module>\u001b[0;34m\u001b[0m\n\u001b[1;32m      5\u001b[0m         \u001b[0;32mreturn\u001b[0m\u001b[0;34m\u001b[0m\u001b[0;34m\u001b[0m\u001b[0m\n\u001b[1;32m      6\u001b[0m \u001b[0;31m#call above function\u001b[0m\u001b[0;34m\u001b[0m\u001b[0;34m\u001b[0m\u001b[0;34m\u001b[0m\u001b[0m\n\u001b[0;32m----> 7\u001b[0;31m \u001b[0mLoveU\u001b[0m\u001b[0;34m(\u001b[0m\u001b[0;34m'Hindi'\u001b[0m\u001b[0;34m,\u001b[0m \u001b[0;34m'Python'\u001b[0m\u001b[0;34m,\u001b[0m \u001b[0;34m'Java'\u001b[0m\u001b[0;34m)\u001b[0m\u001b[0;34m\u001b[0m\u001b[0;34m\u001b[0m\u001b[0m\n\u001b[0m",
      "\u001b[0;31mTypeError\u001b[0m: LoveU() takes 2 positional arguments but 3 were given"
     ]
    }
   ],
   "source": [
    "#function-3.py\n",
    "def LoveU(lang1, lang2):\n",
    "        'function with two parameters'\n",
    "        print ('I love {} and {}'.format(lang1, lang2))\n",
    "        return\n",
    "#call above function\n",
    "LoveU('Hindi', 'Python', 'Java')"
   ]
  },
  {
   "cell_type": "markdown",
   "metadata": {},
   "source": [
    "### Example 3.19\n",
    "Save following code as function-4.py and run from command prompt\n",
    "\n",
    "<b>python function-4.py</b>"
   ]
  },
  {
   "cell_type": "code",
   "execution_count": 84,
   "metadata": {},
   "outputs": [
    {
     "name": "stdout",
     "output_type": "stream",
     "text": [
      "parameter received Hello 10\n",
      "length of string: 5\n",
      "10  is  even\n",
      "parameter received 10 Hello\n"
     ]
    },
    {
     "ename": "TypeError",
     "evalue": "object of type 'int' has no len()",
     "output_type": "error",
     "traceback": [
      "\u001b[0;31m---------------------------------------------------------------------------\u001b[0m",
      "\u001b[0;31mTypeError\u001b[0m                                 Traceback (most recent call last)",
      "\u001b[0;32m<ipython-input-84-614b38cd5095>\u001b[0m in \u001b[0;36m<module>\u001b[0;34m\u001b[0m\n\u001b[1;32m     11\u001b[0m \u001b[0;31m#call above function\u001b[0m\u001b[0;34m\u001b[0m\u001b[0;34m\u001b[0m\u001b[0;34m\u001b[0m\u001b[0m\n\u001b[1;32m     12\u001b[0m \u001b[0mfunction\u001b[0m \u001b[0;34m(\u001b[0m\u001b[0;34m'Hello'\u001b[0m\u001b[0;34m,\u001b[0m \u001b[0;36m10\u001b[0m\u001b[0;34m)\u001b[0m\u001b[0;34m\u001b[0m\u001b[0;34m\u001b[0m\u001b[0m\n\u001b[0;32m---> 13\u001b[0;31m \u001b[0mfunction\u001b[0m \u001b[0;34m(\u001b[0m\u001b[0;36m10\u001b[0m\u001b[0;34m,\u001b[0m \u001b[0;34m'Hello'\u001b[0m\u001b[0;34m)\u001b[0m\u001b[0;34m\u001b[0m\u001b[0;34m\u001b[0m\u001b[0m\n\u001b[0m",
      "\u001b[0;32m<ipython-input-84-614b38cd5095>\u001b[0m in \u001b[0;36mfunction\u001b[0;34m(string, num)\u001b[0m\n\u001b[1;32m      3\u001b[0m         \u001b[0;34m'function assumes a string and number to be passed'\u001b[0m\u001b[0;34m\u001b[0m\u001b[0;34m\u001b[0m\u001b[0m\n\u001b[1;32m      4\u001b[0m         \u001b[0mprint\u001b[0m \u001b[0;34m(\u001b[0m\u001b[0;34m'parameter received'\u001b[0m\u001b[0;34m,\u001b[0m \u001b[0mstring\u001b[0m\u001b[0;34m,\u001b[0m \u001b[0mnum\u001b[0m\u001b[0;34m)\u001b[0m\u001b[0;34m\u001b[0m\u001b[0;34m\u001b[0m\u001b[0m\n\u001b[0;32m----> 5\u001b[0;31m         \u001b[0mprint\u001b[0m \u001b[0;34m(\u001b[0m\u001b[0;34m'length of string:'\u001b[0m\u001b[0;34m,\u001b[0m \u001b[0mlen\u001b[0m\u001b[0;34m(\u001b[0m\u001b[0mstring\u001b[0m\u001b[0;34m)\u001b[0m\u001b[0;34m)\u001b[0m\u001b[0;34m\u001b[0m\u001b[0;34m\u001b[0m\u001b[0m\n\u001b[0m\u001b[1;32m      6\u001b[0m         \u001b[0;32mif\u001b[0m \u001b[0mnum\u001b[0m\u001b[0;34m%\u001b[0m\u001b[0;36m2\u001b[0m\u001b[0;34m==\u001b[0m\u001b[0;36m0\u001b[0m\u001b[0;34m:\u001b[0m\u001b[0;34m\u001b[0m\u001b[0;34m\u001b[0m\u001b[0m\n\u001b[1;32m      7\u001b[0m                 \u001b[0mprint\u001b[0m \u001b[0;34m(\u001b[0m\u001b[0mnum\u001b[0m\u001b[0;34m,\u001b[0m\u001b[0;34m' is '\u001b[0m\u001b[0;34m,\u001b[0m\u001b[0;34m'even'\u001b[0m\u001b[0;34m)\u001b[0m\u001b[0;34m\u001b[0m\u001b[0;34m\u001b[0m\u001b[0m\n",
      "\u001b[0;31mTypeError\u001b[0m: object of type 'int' has no len()"
     ]
    }
   ],
   "source": [
    "#function-4.py\n",
    "def function(string,num):\n",
    "        'function assumes a string and number to be passed'\n",
    "        print ('parameter received', string, num)\n",
    "        print ('length of string:', len(string))\n",
    "        if num%2==0:\n",
    "                print (num,' is ','even')\n",
    "        else:\n",
    "                print (num, ' is ','odd')\n",
    "        return\n",
    "#call above function\n",
    "function ('Hello', 10)\n",
    "function (10, 'Hello')"
   ]
  },
  {
   "cell_type": "markdown",
   "metadata": {},
   "source": [
    "### Example 3.20\n",
    "Save following code as func-with-default.py and run from command prompt\n",
    "\n",
    "<b>python func-with-default.py</b>"
   ]
  },
  {
   "cell_type": "code",
   "execution_count": 85,
   "metadata": {},
   "outputs": [
    {
     "name": "stdout",
     "output_type": "stream",
     "text": [
      "Trouser is Black. Shirt is White\n",
      "Trouser is Blue. Shirt is Green\n"
     ]
    }
   ],
   "source": [
    "#func-with-default.py\n",
    "def dress(trouser, shirt='White'):\n",
    "    print ('Trouser is {}. Shirt is {}'.format(trouser,shirt))\n",
    "\n",
    "dress('Black')\n",
    "dress('Blue','Green')"
   ]
  },
  {
   "cell_type": "markdown",
   "metadata": {},
   "source": [
    "### Example 3.21\n",
    "Save following code as func-with-keywords.py and run from command prompt\n",
    "\n",
    "<b>python func-with-keywords.py</b>"
   ]
  },
  {
   "cell_type": "code",
   "execution_count": 86,
   "metadata": {},
   "outputs": [
    {
     "name": "stdout",
     "output_type": "stream",
     "text": [
      "numerator:10 denominator: 2 division: 5.0\n",
      "numerator:2 denominator: 10 division: 0.2\n",
      "numerator:10 denominator: 2 division: 5.0\n"
     ]
    }
   ],
   "source": [
    "#func-with-keywords.py\n",
    "def division(num, denom):\n",
    "        div=num/denom\n",
    "        print ('numerator:{} denominator: {} division: {}'.format(num,denom,div))\n",
    "\n",
    "division(10,2)\n",
    "division(2,10)\n",
    "division(denom=2, num=10)"
   ]
  },
  {
   "cell_type": "markdown",
   "metadata": {},
   "source": [
    "### Example 3.22\n",
    "Save following code as func-with-kwonly.py and run from command prompt\n",
    "\n",
    "<b>python func-with-kwonly.py</b>"
   ]
  },
  {
   "cell_type": "code",
   "execution_count": 87,
   "metadata": {},
   "outputs": [
    {
     "name": "stdout",
     "output_type": "stream",
     "text": [
      "numerator:10 denominator: 2 division: 5.0\n"
     ]
    },
    {
     "ename": "TypeError",
     "evalue": "division() takes 0 positional arguments but 2 were given",
     "output_type": "error",
     "traceback": [
      "\u001b[0;31m---------------------------------------------------------------------------\u001b[0m",
      "\u001b[0;31mTypeError\u001b[0m                                 Traceback (most recent call last)",
      "\u001b[0;32m<ipython-input-87-5a167b9849a3>\u001b[0m in \u001b[0;36m<module>\u001b[0;34m\u001b[0m\n\u001b[1;32m      5\u001b[0m \u001b[0;34m\u001b[0m\u001b[0m\n\u001b[1;32m      6\u001b[0m \u001b[0mdivision\u001b[0m\u001b[0;34m(\u001b[0m\u001b[0mdenom\u001b[0m\u001b[0;34m=\u001b[0m\u001b[0;36m2\u001b[0m\u001b[0;34m,\u001b[0m \u001b[0mnum\u001b[0m\u001b[0;34m=\u001b[0m\u001b[0;36m10\u001b[0m\u001b[0;34m)\u001b[0m\u001b[0;34m\u001b[0m\u001b[0;34m\u001b[0m\u001b[0m\n\u001b[0;32m----> 7\u001b[0;31m \u001b[0mdivision\u001b[0m\u001b[0;34m(\u001b[0m\u001b[0;36m10\u001b[0m\u001b[0;34m,\u001b[0m\u001b[0;36m2\u001b[0m\u001b[0;34m)\u001b[0m\u001b[0;34m\u001b[0m\u001b[0;34m\u001b[0m\u001b[0m\n\u001b[0m",
      "\u001b[0;31mTypeError\u001b[0m: division() takes 0 positional arguments but 2 were given"
     ]
    }
   ],
   "source": [
    "#func-with-kwonly.py\n",
    "def division(*,num, denom):\n",
    "        div=num/denom\n",
    "        print ('numerator:{} denominator: {} division: {}'.format(num,denom,div))\n",
    "\n",
    "division(denom=2, num=10)\n",
    "division(10,2)"
   ]
  },
  {
   "cell_type": "markdown",
   "metadata": {},
   "source": [
    "### Example 3.23"
   ]
  },
  {
   "cell_type": "code",
   "execution_count": 88,
   "metadata": {},
   "outputs": [
    {
     "data": {
      "text/plain": [
       "123"
      ]
     },
     "execution_count": 88,
     "metadata": {},
     "output_type": "execute_result"
    }
   ],
   "source": [
    ">>> #converts float to int\n",
    "...\n",
    ">>> int(123.45)"
   ]
  },
  {
   "cell_type": "code",
   "execution_count": 89,
   "metadata": {},
   "outputs": [
    {
     "data": {
      "text/plain": [
       "121"
      ]
     },
     "execution_count": 89,
     "metadata": {},
     "output_type": "execute_result"
    }
   ],
   "source": [
    ">>> #converts string to number with default base 10 - decimal number system\n",
    "...\n",
    ">>> int('121')"
   ]
  },
  {
   "cell_type": "code",
   "execution_count": 90,
   "metadata": {},
   "outputs": [
    {
     "data": {
      "text/plain": [
       "289"
      ]
     },
     "execution_count": 90,
     "metadata": {},
     "output_type": "execute_result"
    }
   ],
   "source": [
    ">>> #converts string with hexadecimal digits - base=16 as positional argument\n",
    "...\n",
    ">>> int('121',16)"
   ]
  },
  {
   "cell_type": "markdown",
   "metadata": {},
   "source": [
    "### Example 3.24\n",
    "Save following code as func-with-var-args.py and run from command prompt\n",
    "\n",
    "<b>python func-with-var-args.py</b>"
   ]
  },
  {
   "cell_type": "code",
   "execution_count": 91,
   "metadata": {},
   "outputs": [
    {
     "name": "stdout",
     "output_type": "stream",
     "text": [
      "Total of 4 numbers: 150\n",
      "Total of 3 numbers: 88\n"
     ]
    }
   ],
   "source": [
    "#func-with-var-args.py\n",
    "def addall(*nums):\n",
    "        ttl=0\n",
    "        for num in nums:\n",
    "                ttl=ttl+num\n",
    "        return ttl\n",
    "total=addall(10,20,50,70)\n",
    "print ('Total of 4 numbers:',total)\n",
    "total=addall(11,34,43)\n",
    "print ('Total of 3 numbers:',total)"
   ]
  },
  {
   "cell_type": "markdown",
   "metadata": {},
   "source": [
    "### Example 3.25\n",
    "Save following code as mymodule.py."
   ]
  },
  {
   "cell_type": "code",
   "execution_count": 92,
   "metadata": {},
   "outputs": [],
   "source": [
    "'docstring of mymodule'\n",
    "def isprime(num):\n",
    "        x=2\n",
    "        for x in range(2,num):\n",
    "                if num%x==0:\n",
    "                        return False\n",
    "        else:\n",
    "                return True\n",
    "def iseven(num):\n",
    "        if num%2==0:\n",
    "                return True\n",
    "        else:\n",
    "                return False\n",
    "def isleap(num):\n",
    "        if num%4==0:\n",
    "                return True\n",
    "        else:\n",
    "                return False"
   ]
  },
  {
   "cell_type": "markdown",
   "metadata": {},
   "source": [
    "### example 3.26"
   ]
  },
  {
   "cell_type": "code",
   "execution_count": 93,
   "metadata": {},
   "outputs": [
    {
     "data": {
      "text/plain": [
       "True"
      ]
     },
     "execution_count": 93,
     "metadata": {},
     "output_type": "execute_result"
    }
   ],
   "source": [
    ">>> import mymodule\n",
    ">>> mymodule.isprime(43)"
   ]
  },
  {
   "cell_type": "code",
   "execution_count": 94,
   "metadata": {},
   "outputs": [
    {
     "data": {
      "text/plain": [
       "False"
      ]
     },
     "execution_count": 94,
     "metadata": {},
     "output_type": "execute_result"
    }
   ],
   "source": [
    ">>> mymodule.isprime(72)"
   ]
  },
  {
   "cell_type": "code",
   "execution_count": 95,
   "metadata": {},
   "outputs": [
    {
     "data": {
      "text/plain": [
       "True"
      ]
     },
     "execution_count": 95,
     "metadata": {},
     "output_type": "execute_result"
    }
   ],
   "source": [
    ">>> mymodule.iseven(28)"
   ]
  },
  {
   "cell_type": "code",
   "execution_count": 96,
   "metadata": {},
   "outputs": [
    {
     "data": {
      "text/plain": [
       "False"
      ]
     },
     "execution_count": 96,
     "metadata": {},
     "output_type": "execute_result"
    }
   ],
   "source": [
    ">>> mymodule.iseven(93)"
   ]
  },
  {
   "cell_type": "code",
   "execution_count": 97,
   "metadata": {},
   "outputs": [
    {
     "data": {
      "text/plain": [
       "False"
      ]
     },
     "execution_count": 97,
     "metadata": {},
     "output_type": "execute_result"
    }
   ],
   "source": [
    ">>> mymodule.isleap(2019)"
   ]
  },
  {
   "cell_type": "code",
   "execution_count": 98,
   "metadata": {},
   "outputs": [
    {
     "data": {
      "text/plain": [
       "True"
      ]
     },
     "execution_count": 98,
     "metadata": {},
     "output_type": "execute_result"
    }
   ],
   "source": [
    ">>> mymodule.isleap(1996)"
   ]
  },
  {
   "cell_type": "markdown",
   "metadata": {},
   "source": [
    "### Example 3.27\n",
    "Save following code as moduledemo.py and run from command prompt\n",
    "\n",
    "<b>python moduledemo.py</b>"
   ]
  },
  {
   "cell_type": "code",
   "execution_count": 99,
   "metadata": {},
   "outputs": [
    {
     "name": "stdout",
     "output_type": "stream",
     "text": [
      "calling isprime function from mymodule\n",
      "enter a number..23\n",
      "23 is a prime number\n"
     ]
    }
   ],
   "source": [
    "#moduledemo.py\n",
    "import mymodule\n",
    "print ('calling isprime function from mymodule')\n",
    "n=int(input('enter a number..'))\n",
    "retval=mymodule.isprime(n)\n",
    "if retval==True:\n",
    "        print ('{} is a prime number'.format(n))\n",
    "else:\n",
    "        print ('{} is not a prime number'.format(n))"
   ]
  },
  {
   "cell_type": "markdown",
   "metadata": {},
   "source": [
    "### Example 3.28"
   ]
  },
  {
   "cell_type": "code",
   "execution_count": null,
   "metadata": {},
   "outputs": [],
   "source": [
    ">>> #module object - built-in module\n",
    "...\n",
    ">>> import math\n",
    ">>> type(math)"
   ]
  },
  {
   "cell_type": "code",
   "execution_count": 100,
   "metadata": {},
   "outputs": [
    {
     "data": {
      "text/plain": [
       "module"
      ]
     },
     "execution_count": 100,
     "metadata": {},
     "output_type": "execute_result"
    }
   ],
   "source": [
    ">>> #module object - user defined module\n",
    "...\n",
    ">>> import mymodule\n",
    ">>> type(mymodule)"
   ]
  },
  {
   "cell_type": "markdown",
   "metadata": {},
   "source": [
    "### Example 3.29"
   ]
  },
  {
   "cell_type": "code",
   "execution_count": 101,
   "metadata": {},
   "outputs": [
    {
     "data": {
      "text/plain": [
       "'__main__'"
      ]
     },
     "execution_count": 101,
     "metadata": {},
     "output_type": "execute_result"
    }
   ],
   "source": [
    ">>> #__name__ attribute of interactive shell\n",
    "...\n",
    ">>> __name__"
   ]
  },
  {
   "cell_type": "code",
   "execution_count": 102,
   "metadata": {},
   "outputs": [
    {
     "data": {
      "text/plain": [
       "'math'"
      ]
     },
     "execution_count": 102,
     "metadata": {},
     "output_type": "execute_result"
    }
   ],
   "source": [
    ">>> # __name__ attrbute of imported module\n",
    "...\n",
    ">>> import math\n",
    ">>> math.__name__"
   ]
  },
  {
   "cell_type": "code",
   "execution_count": 103,
   "metadata": {},
   "outputs": [
    {
     "data": {
      "text/plain": [
       "'mymodule'"
      ]
     },
     "execution_count": 103,
     "metadata": {},
     "output_type": "execute_result"
    }
   ],
   "source": [
    ">>> import mymodule\n",
    ">>> mymodule.__name__"
   ]
  },
  {
   "cell_type": "markdown",
   "metadata": {},
   "source": [
    "### Example 3.30\n",
    "Save following code as moduledemo-1.py and run from command prompt\n",
    "\n",
    "<b>python moduledemo-1.py</b>"
   ]
  },
  {
   "cell_type": "code",
   "execution_count": 104,
   "metadata": {},
   "outputs": [
    {
     "name": "stdout",
     "output_type": "stream",
     "text": [
      "__name__ of top level module: __main__\n",
      "__name__ of imported mymodule: mymodule\n"
     ]
    }
   ],
   "source": [
    "#moduledemo-1.py\n",
    "import mymodule\n",
    "print ('__name__ of top level module:', __name__)\n",
    "print ('__name__ of imported mymodule:', mymodule.__name__)"
   ]
  },
  {
   "cell_type": "markdown",
   "metadata": {},
   "source": [
    "### Example 3.31\n",
    "Save following code as mymodule.py"
   ]
  },
  {
   "cell_type": "code",
   "execution_count": 105,
   "metadata": {},
   "outputs": [
    {
     "name": "stdout",
     "output_type": "stream",
     "text": [
      "enter a number..11\n",
      "11 is odd\n"
     ]
    }
   ],
   "source": [
    "'docstring of mymodule'\n",
    "def isprime(num):\n",
    "        x=2\n",
    "        for x in range(2,num):\n",
    "                if num%x==0:\n",
    "                        return False\n",
    "        else:\n",
    "                return True\n",
    "\n",
    "def iseven(num):\n",
    "        if num%2==0:\n",
    "                return True\n",
    "        else:\n",
    "                return False\n",
    "def isleap(num):\n",
    "        if num%4==0:\n",
    "                return True\n",
    "        else:\n",
    "                return False\n",
    "##add following statements\n",
    "n=int(input('enter a number..'))\n",
    "retval=iseven(n)\n",
    "if retval==True:\n",
    "        print ('{} is even'.format(n))\n",
    "else:\n",
    "        print ('{} is odd'.format(n))\n"
   ]
  },
  {
   "cell_type": "markdown",
   "metadata": {},
   "source": [
    "<b>python moduledemo.py</b>"
   ]
  },
  {
   "cell_type": "code",
   "execution_count": 106,
   "metadata": {},
   "outputs": [
    {
     "name": "stdout",
     "output_type": "stream",
     "text": [
      "calling isprime function from mymodule\n",
      "enter a number..23\n",
      "23 is a prime number\n"
     ]
    }
   ],
   "source": [
    "#moduledemo.py\n",
    "import mymodule\n",
    "print ('calling isprime function from mymodule')\n",
    "n=int(input('enter a number..'))\n",
    "retval=mymodule.isprime(n)\n",
    "if retval==True:\n",
    "        print ('{} is a prime number'.format(n))\n",
    "else:\n",
    "        print ('{} is not a prime number'.format(n))"
   ]
  },
  {
   "cell_type": "markdown",
   "metadata": {},
   "source": [
    "### Example 3.32\n",
    "Save following code as mymodule.py"
   ]
  },
  {
   "cell_type": "code",
   "execution_count": 107,
   "metadata": {},
   "outputs": [
    {
     "name": "stdout",
     "output_type": "stream",
     "text": [
      "enter a number..11\n",
      "11 is odd\n"
     ]
    }
   ],
   "source": [
    "'docstring of mymodule'\n",
    "def isprime(num):\n",
    "        x=2\n",
    "        for x in range(2,num):\n",
    "                if num%x==0:\n",
    "                        return False\n",
    "        else:\n",
    "                return True\n",
    "\n",
    "def iseven(num):\n",
    "        if num%2==0:\n",
    "                return True\n",
    "        else:\n",
    "                return False\n",
    "def isleap(num):\n",
    "        if num%4==0:\n",
    "                return True\n",
    "        else:\n",
    "                return False\n",
    "#modify as follows:\n",
    "if __name__=='__main__':        \n",
    "        n=int(input('enter a number..'))\n",
    "        retval=iseven(n)\n",
    "        if retval==True:\n",
    "                print ('{} is even'.format(n))\n",
    "        else:\n",
    "                print ('{} is odd'.format(n))"
   ]
  },
  {
   "cell_type": "markdown",
   "metadata": {},
   "source": [
    "<b>python moduledemo.py</b>"
   ]
  },
  {
   "cell_type": "code",
   "execution_count": 108,
   "metadata": {},
   "outputs": [
    {
     "name": "stdout",
     "output_type": "stream",
     "text": [
      "calling isprime function from mymodule\n",
      "enter a number..31\n",
      "31 is a prime number\n"
     ]
    }
   ],
   "source": [
    "#moduledemo.py\n",
    "import mymodule\n",
    "print ('calling isprime function from mymodule')\n",
    "n=int(input('enter a number..'))\n",
    "retval=mymodule.isprime(n)\n",
    "if retval==True:\n",
    "        print ('{} is a prime number'.format(n))\n",
    "else:\n",
    "        print ('{} is not a prime number'.format(n))"
   ]
  },
  {
   "cell_type": "markdown",
   "metadata": {},
   "source": [
    "### Example 3.34"
   ]
  },
  {
   "cell_type": "code",
   "execution_count": 109,
   "metadata": {},
   "outputs": [],
   "source": [
    "!cd MyPackage"
   ]
  },
  {
   "cell_type": "code",
   "execution_count": 110,
   "metadata": {},
   "outputs": [
    {
     "data": {
      "text/plain": [
       "10"
      ]
     },
     "execution_count": 110,
     "metadata": {},
     "output_type": "execute_result"
    }
   ],
   "source": [
    ">>> from MyPackage import addfunctions\n",
    ">>> addfunctions.addall(1,2,3,4)"
   ]
  },
  {
   "cell_type": "code",
   "execution_count": 111,
   "metadata": {},
   "outputs": [
    {
     "data": {
      "text/plain": [
       "True"
      ]
     },
     "execution_count": 111,
     "metadata": {},
     "output_type": "execute_result"
    }
   ],
   "source": [
    ">>> from MyPackage import myfunctions\n",
    ">>> myfunctions.isprime(67)"
   ]
  },
  {
   "cell_type": "code",
   "execution_count": 112,
   "metadata": {},
   "outputs": [
    {
     "data": {
      "text/plain": [
       "100"
      ]
     },
     "execution_count": 112,
     "metadata": {},
     "output_type": "execute_result"
    }
   ],
   "source": [
    ">>> from MyPackage import mathfunctions\n",
    ">>> mathfunctions.power(10,2)"
   ]
  },
  {
   "cell_type": "markdown",
   "metadata": {},
   "source": [
    "### Example 3.35"
   ]
  },
  {
   "cell_type": "code",
   "execution_count": 113,
   "metadata": {},
   "outputs": [
    {
     "data": {
      "text/plain": [
       "(625, 25.0)"
      ]
     },
     "execution_count": 113,
     "metadata": {},
     "output_type": "execute_result"
    }
   ],
   "source": [
    ">>> from MyPackage.mathfunctions import power, average\n",
    ">>> power(5,4),average(20,30)"
   ]
  },
  {
   "cell_type": "markdown",
   "metadata": {},
   "source": [
    "### Example 3.36"
   ]
  },
  {
   "cell_type": "code",
   "execution_count": null,
   "metadata": {},
   "outputs": [],
   "source": [
    "#__init__.py\n",
    "from .mathfunctions import average\n",
    "from .addfunctions import addall\n",
    "from .myfunctions import isprime, iseven"
   ]
  },
  {
   "cell_type": "code",
   "execution_count": null,
   "metadata": {},
   "outputs": [],
   "source": []
  }
 ],
 "metadata": {
  "kernelspec": {
   "display_name": "Python 3",
   "language": "python",
   "name": "python3"
  },
  "language_info": {
   "codemirror_mode": {
    "name": "ipython",
    "version": 3
   },
   "file_extension": ".py",
   "mimetype": "text/x-python",
   "name": "python",
   "nbconvert_exporter": "python",
   "pygments_lexer": "ipython3",
   "version": "3.6.8"
  }
 },
 "nbformat": 4,
 "nbformat_minor": 2
}
