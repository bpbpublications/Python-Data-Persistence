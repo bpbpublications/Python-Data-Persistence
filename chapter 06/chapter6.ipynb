{
 "cells": [
  {
   "cell_type": "markdown",
   "metadata": {},
   "source": [
    "# <center>Chapter 6</center>\n",
    "## <center>Object Serialization</center>"
   ]
  },
  {
   "cell_type": "markdown",
   "metadata": {},
   "source": [
    "### Example 6.1"
   ]
  },
  {
   "cell_type": "code",
   "execution_count": 1,
   "metadata": {},
   "outputs": [
    {
     "ename": "TypeError",
     "evalue": "write() argument must be str, not list",
     "output_type": "error",
     "traceback": [
      "\u001b[0;31m---------------------------------------------------------------------------\u001b[0m",
      "\u001b[0;31mTypeError\u001b[0m                                 Traceback (most recent call last)",
      "\u001b[0;32m<ipython-input-1-b0398894b65f>\u001b[0m in \u001b[0;36m<module>\u001b[0;34m\u001b[0m\n\u001b[1;32m      1\u001b[0m \u001b[0mnumbers\u001b[0m\u001b[0;34m=\u001b[0m\u001b[0;34m[\u001b[0m\u001b[0;36m10\u001b[0m\u001b[0;34m,\u001b[0m\u001b[0;36m20\u001b[0m\u001b[0;34m,\u001b[0m\u001b[0;36m30\u001b[0m\u001b[0;34m,\u001b[0m\u001b[0;36m40\u001b[0m\u001b[0;34m]\u001b[0m\u001b[0;34m\u001b[0m\u001b[0;34m\u001b[0m\u001b[0m\n\u001b[1;32m      2\u001b[0m \u001b[0mfile\u001b[0m\u001b[0;34m=\u001b[0m\u001b[0mopen\u001b[0m\u001b[0;34m(\u001b[0m\u001b[0;34m'numbers.txt'\u001b[0m\u001b[0;34m,\u001b[0m\u001b[0;34m'w'\u001b[0m\u001b[0;34m)\u001b[0m\u001b[0;34m\u001b[0m\u001b[0;34m\u001b[0m\u001b[0m\n\u001b[0;32m----> 3\u001b[0;31m \u001b[0mfile\u001b[0m\u001b[0;34m.\u001b[0m\u001b[0mwrite\u001b[0m\u001b[0;34m(\u001b[0m\u001b[0mnumbers\u001b[0m\u001b[0;34m)\u001b[0m\u001b[0;34m\u001b[0m\u001b[0;34m\u001b[0m\u001b[0m\n\u001b[0m",
      "\u001b[0;31mTypeError\u001b[0m: write() argument must be str, not list"
     ]
    }
   ],
   "source": [
    ">>> numbers=[10,20,30,40]\n",
    ">>> file=open('numbers.txt','w')\n",
    ">>> file.write(numbers)"
   ]
  },
  {
   "cell_type": "code",
   "execution_count": 11,
   "metadata": {},
   "outputs": [
    {
     "ename": "TypeError",
     "evalue": "write() argument must be str, not person",
     "output_type": "error",
     "traceback": [
      "\u001b[0;31m---------------------------------------------------------------------------\u001b[0m",
      "\u001b[0;31mTypeError\u001b[0m                                 Traceback (most recent call last)",
      "\u001b[0;32m<ipython-input-11-898cbf07a6dc>\u001b[0m in \u001b[0;36m<module>\u001b[0;34m\u001b[0m\n\u001b[1;32m      5\u001b[0m \u001b[0mp1\u001b[0m\u001b[0;34m=\u001b[0m\u001b[0mperson\u001b[0m\u001b[0;34m(\u001b[0m\u001b[0;34m)\u001b[0m\u001b[0;34m\u001b[0m\u001b[0;34m\u001b[0m\u001b[0m\n\u001b[1;32m      6\u001b[0m \u001b[0mfile\u001b[0m\u001b[0;34m=\u001b[0m\u001b[0mopen\u001b[0m\u001b[0;34m(\u001b[0m\u001b[0;34m'persons.txt'\u001b[0m\u001b[0;34m,\u001b[0m\u001b[0;34m'w'\u001b[0m\u001b[0;34m)\u001b[0m\u001b[0;34m\u001b[0m\u001b[0;34m\u001b[0m\u001b[0m\n\u001b[0;32m----> 7\u001b[0;31m \u001b[0mfile\u001b[0m\u001b[0;34m.\u001b[0m\u001b[0mwrite\u001b[0m\u001b[0;34m(\u001b[0m\u001b[0mp1\u001b[0m\u001b[0;34m)\u001b[0m\u001b[0;34m\u001b[0m\u001b[0;34m\u001b[0m\u001b[0m\n\u001b[0m",
      "\u001b[0;31mTypeError\u001b[0m: write() argument must be str, not person"
     ]
    }
   ],
   "source": [
    ">>> class person:\n",
    "\tdef __init__(self):\n",
    "\t\tself.name='Anil'\n",
    "\n",
    ">>> p1=person()\n",
    ">>> file=open('persons.txt','w')\n",
    ">>> file.write(p1)\n"
   ]
  },
  {
   "cell_type": "markdown",
   "metadata": {},
   "source": [
    "### Example 6.2"
   ]
  },
  {
   "cell_type": "code",
   "execution_count": 46,
   "metadata": {},
   "outputs": [],
   "source": [
    ">>> numbers=[10,20,30,40]\n",
    ">>> file=open('numbers.txt','w')\n",
    ">>> file.write(str(numbers))\n",
    ">>> file.close()"
   ]
  },
  {
   "cell_type": "markdown",
   "metadata": {},
   "source": [
    "### Example 6.3"
   ]
  },
  {
   "cell_type": "code",
   "execution_count": 47,
   "metadata": {},
   "outputs": [],
   "source": [
    ">>> class person:\n",
    "\tdef __init__(self):\n",
    "\t\tself.name='Anil'\n",
    "\n",
    ">>> p1=person()\n",
    ">>> file=open('persons.txt','w')\n",
    ">>> file.write(p1.__str__())\n",
    ">>> file.close()"
   ]
  },
  {
   "cell_type": "markdown",
   "metadata": {},
   "source": [
    "### Example 6.4"
   ]
  },
  {
   "cell_type": "code",
   "execution_count": 48,
   "metadata": {},
   "outputs": [
    {
     "data": {
      "text/plain": [
       "'[10, 20, 30, 40]'"
      ]
     },
     "execution_count": 48,
     "metadata": {},
     "output_type": "execute_result"
    }
   ],
   "source": [
    ">>> file=open('numbers.txt','r')\n",
    ">>> data=file.read()\n",
    ">>> data"
   ]
  },
  {
   "cell_type": "markdown",
   "metadata": {},
   "source": [
    "### Example 6.5"
   ]
  },
  {
   "cell_type": "code",
   "execution_count": 49,
   "metadata": {},
   "outputs": [],
   "source": [
    ">>> numbers=[10,20,30,40]\n",
    ">>> data=bytearray(numbers)\n",
    ">>> file=open('numbers.txt','wb')\n",
    ">>> file.write(data)\n",
    ">>> file.close()"
   ]
  },
  {
   "cell_type": "markdown",
   "metadata": {},
   "source": [
    "### Example 6.6"
   ]
  },
  {
   "cell_type": "code",
   "execution_count": 50,
   "metadata": {},
   "outputs": [
    {
     "data": {
      "text/plain": [
       "4"
      ]
     },
     "execution_count": 50,
     "metadata": {},
     "output_type": "execute_result"
    }
   ],
   "source": [
    ">>> file=open('persons.txt','wb')\n",
    ">>> file.write(p1.name.encode())"
   ]
  },
  {
   "cell_type": "markdown",
   "metadata": {},
   "source": [
    "### Example 6.7"
   ]
  },
  {
   "cell_type": "code",
   "execution_count": 51,
   "metadata": {},
   "outputs": [
    {
     "data": {
      "text/plain": [
       "b'\\x80\\x03]q\\x00(K\\nK\\x14K\\x1eK(e.'"
      ]
     },
     "execution_count": 51,
     "metadata": {},
     "output_type": "execute_result"
    }
   ],
   "source": [
    ">>> import pickle\n",
    ">>> numbers=[10,20,30,40]\n",
    ">>> pickledata=pickle.dumps(numbers)\n",
    ">>> pickledata"
   ]
  },
  {
   "cell_type": "code",
   "execution_count": 52,
   "metadata": {},
   "outputs": [
    {
     "data": {
      "text/plain": [
       "[10, 20, 30, 40]"
      ]
     },
     "execution_count": 52,
     "metadata": {},
     "output_type": "execute_result"
    }
   ],
   "source": [
    ">>> #unpickled data\n",
    "...\n",
    ">>> unpickledata=pickle.loads(pickledata)\n",
    ">>> unpickledata"
   ]
  },
  {
   "cell_type": "markdown",
   "metadata": {},
   "source": [
    "### Example 6.8"
   ]
  },
  {
   "cell_type": "code",
   "execution_count": 53,
   "metadata": {},
   "outputs": [
    {
     "data": {
      "text/plain": [
       "[10, 20, 30, 40]"
      ]
     },
     "execution_count": 53,
     "metadata": {},
     "output_type": "execute_result"
    }
   ],
   "source": [
    ">>> #pickle to file\n",
    "...\n",
    ">>> import pickle\n",
    ">>> numbers=[10,20,30,40]\n",
    ">>> file=open('numbers.dat','wb')\n",
    ">>> pickle.dump(numbers, file)\n",
    ">>> file.close()\n",
    ">>> #unpickle from file\n",
    "...\n",
    ">>> file=open('numbers.dat','rb')\n",
    ">>> unpickledata=pickle.load(file)\n",
    ">>> unpickledata"
   ]
  },
  {
   "cell_type": "markdown",
   "metadata": {},
   "source": [
    "### Example 6.9\n",
    "\n",
    "<b>python pickleexample.py</b>"
   ]
  },
  {
   "cell_type": "code",
   "execution_count": 54,
   "metadata": {},
   "outputs": [
    {
     "name": "stdout",
     "output_type": "stream",
     "text": [
      "before pickling..\n",
      "Name: Rajan email: r123@gmail.com password: rajan123\n",
      "Name: Sudheer email: s.11@gmail.com password: s_11\n",
      "unpickled objects\n",
      "Name: Rajan email: r123@gmail.com password: rajan123\n",
      "Name: Sudheer email: s.11@gmail.com password: s_11\n"
     ]
    }
   ],
   "source": [
    "from pickle import Pickler, Unpickler\n",
    "class User:\n",
    "        def __init__(self,name, email, pw):\n",
    "                self.name=name\n",
    "                self.email=email\n",
    "                self.pw=pw\n",
    "        def __str__(self):\n",
    "            return ('Name: {} email: {} password: {}'. format(self.name, self.email, self.pw))\n",
    "\n",
    "user1=User('Rajan', 'r123@gmail.com', 'rajan123')\n",
    "user2=User('Sudheer', 's.11@gmail.com', 's_11')\n",
    "print ('before pickling..')\n",
    "print (user1)\n",
    "print (user2)\n",
    "file=open('users.dat','wb')\n",
    "Pickler(file).dump(user1)\n",
    "Pickler(file).dump(user2)\n",
    "file.close()\n",
    "\n",
    "file=open('users.dat','rb')\n",
    "obj1=Unpickler(file).load()\n",
    "print ('unpickled objects')\n",
    "print (obj1)\n",
    "obj2=Unpickler(file).load()\n",
    "print (obj2)   "
   ]
  },
  {
   "cell_type": "markdown",
   "metadata": {},
   "source": [
    "### Example 6.10"
   ]
  },
  {
   "cell_type": "code",
   "execution_count": 55,
   "metadata": {},
   "outputs": [],
   "source": [
    ">>> import shelve\n",
    ">>> obj=shelve.open('shelvetest')"
   ]
  },
  {
   "cell_type": "markdown",
   "metadata": {},
   "source": [
    "### Example 6.11"
   ]
  },
  {
   "cell_type": "code",
   "execution_count": 56,
   "metadata": {},
   "outputs": [],
   "source": [
    ">>> obj['name']='Virat Kohli'\n",
    ">>> obj['age']=29\n",
    ">>> obj['teams']=['India', 'IndiaU19', 'RCB', 'Delhi']"
   ]
  },
  {
   "cell_type": "markdown",
   "metadata": {},
   "source": [
    "### Example 6.12"
   ]
  },
  {
   "cell_type": "code",
   "execution_count": 57,
   "metadata": {},
   "outputs": [
    {
     "data": {
      "text/plain": [
       "'Virat Kohli'"
      ]
     },
     "execution_count": 57,
     "metadata": {},
     "output_type": "execute_result"
    }
   ],
   "source": [
    ">>> obj.get('name')"
   ]
  },
  {
   "cell_type": "code",
   "execution_count": 58,
   "metadata": {},
   "outputs": [
    {
     "data": {
      "text/plain": [
       "{'name': 'Virat Kohli',\n",
       " 'age': 29,\n",
       " 'teams': ['India', 'IndiaU19', 'RCB', 'Delhi'],\n",
       " '100s': 64,\n",
       " '50s': 69}"
      ]
     },
     "execution_count": 58,
     "metadata": {},
     "output_type": "execute_result"
    }
   ],
   "source": [
    ">>> dct={'100s':64, '50s':69}\n",
    ">>> obj.update(dct)\n",
    ">>> dict(obj)"
   ]
  },
  {
   "cell_type": "markdown",
   "metadata": {},
   "source": [
    "### Example 6.13"
   ]
  },
  {
   "cell_type": "code",
   "execution_count": 59,
   "metadata": {},
   "outputs": [
    {
     "data": {
      "text/plain": [
       "['name', 'age', 'teams', '100s', '50s']"
      ]
     },
     "execution_count": 59,
     "metadata": {},
     "output_type": "execute_result"
    }
   ],
   "source": [
    ">>> keys=list(obj.keys())\n",
    ">>> keys"
   ]
  },
  {
   "cell_type": "code",
   "execution_count": 60,
   "metadata": {},
   "outputs": [
    {
     "data": {
      "text/plain": [
       "['Virat Kohli', 29, ['India', 'IndiaU19', 'RCB', 'Delhi'], 64, 69]"
      ]
     },
     "execution_count": 60,
     "metadata": {},
     "output_type": "execute_result"
    }
   ],
   "source": [
    ">>> values=list(obj.values())\n",
    ">>> values"
   ]
  },
  {
   "cell_type": "code",
   "execution_count": 61,
   "metadata": {},
   "outputs": [
    {
     "data": {
      "text/plain": [
       "[('name', 'Virat Kohli'),\n",
       " ('age', 29),\n",
       " ('teams', ['India', 'IndiaU19', 'RCB', 'Delhi']),\n",
       " ('100s', 64),\n",
       " ('50s', 69)]"
      ]
     },
     "execution_count": 61,
     "metadata": {},
     "output_type": "execute_result"
    }
   ],
   "source": [
    ">>> items=list(obj.items())\n",
    ">>> items"
   ]
  },
  {
   "cell_type": "markdown",
   "metadata": {},
   "source": [
    "### Example 6.14"
   ]
  },
  {
   "cell_type": "code",
   "execution_count": 62,
   "metadata": {},
   "outputs": [],
   "source": [
    ">>> import dbm\n",
    ">>> db=dbm.open('mydbm.db','n')\n",
    ">>> db['title']='Introduction to Python'\n",
    ">>> db['publisher']='BPB'\n",
    ">>> db['year']='2019'\n",
    ">>> db.close()"
   ]
  },
  {
   "cell_type": "markdown",
   "metadata": {},
   "source": [
    "### Example 6.15"
   ]
  },
  {
   "cell_type": "code",
   "execution_count": 63,
   "metadata": {},
   "outputs": [
    {
     "data": {
      "text/plain": [
       "'dbm.dumb'"
      ]
     },
     "execution_count": 63,
     "metadata": {},
     "output_type": "execute_result"
    }
   ],
   "source": [
    ">>> dbm.whichdb('mydbm.db')"
   ]
  },
  {
   "cell_type": "markdown",
   "metadata": {},
   "source": [
    "### Example 6.16"
   ]
  },
  {
   "cell_type": "code",
   "execution_count": 64,
   "metadata": {},
   "outputs": [
    {
     "name": "stdout",
     "output_type": "stream",
     "text": [
      "b'title' b'Introduction to Python'\n",
      "b'publisher' b'BPB'\n",
      "b'year' b'2019'\n"
     ]
    }
   ],
   "source": [
    ">>> db=dbm.open('mydbm.db','r')\n",
    ">>> for k,v in db.items():\n",
    "\tprint (k,v)"
   ]
  },
  {
   "cell_type": "markdown",
   "metadata": {},
   "source": [
    "### Example 6.17"
   ]
  },
  {
   "cell_type": "code",
   "execution_count": 65,
   "metadata": {},
   "outputs": [],
   "source": [
    ">>> import csv\n",
    ">>> data=[('TV','Samsung',25000),('Computer','Dell',40000),('Mobile','Redmi',15000)]\n",
    ">>> file=open('pricelist.csv','w', newline='')\n",
    ">>> obj=csv.writer(file)\n",
    ">>> #write single row\n",
    ">>> obj.writerow(data[0])\n",
    ">>> #write multiple rows\n",
    ">>> obj.writerows(data[1:])\n",
    ">>> file.close()"
   ]
  },
  {
   "cell_type": "markdown",
   "metadata": {},
   "source": [
    "### Example 6.18"
   ]
  },
  {
   "cell_type": "code",
   "execution_count": 66,
   "metadata": {},
   "outputs": [
    {
     "name": "stdout",
     "output_type": "stream",
     "text": [
      "['TV', 'Samsung', '25000']\n",
      "['Computer', 'Dell', '40000']\n",
      "['Mobile', 'Redmi', '15000']\n"
     ]
    }
   ],
   "source": [
    ">>> file=open('pricelist.csv','r', newline='')\n",
    ">>> obj=csv.reader(file)\n",
    ">>> for row in obj:\n",
    "\tprint (row)"
   ]
  },
  {
   "cell_type": "code",
   "execution_count": 67,
   "metadata": {},
   "outputs": [],
   "source": [
    ">>> data=[{'product':'TV','brand':'Samsung','price':25000}, {'product':'Computer','brand':'Dell','price':40000},{'product':'Mobile','brand':'Redmi','price':15000}]\n",
    ">>> file=open('pricelist.csv','w',newline='')\n",
    ">>> fields=data[0].keys()\n",
    ">>> obj=csv.DictWriter(file,fields)"
   ]
  },
  {
   "cell_type": "markdown",
   "metadata": {},
   "source": [
    "### Example 6.20"
   ]
  },
  {
   "cell_type": "code",
   "execution_count": 68,
   "metadata": {},
   "outputs": [],
   "source": [
    ">>> obj.writeheader()\n",
    ">>> obj.writerows(data)\n",
    ">>> file.close()"
   ]
  },
  {
   "cell_type": "markdown",
   "metadata": {},
   "source": [
    "### Example 6.22"
   ]
  },
  {
   "cell_type": "code",
   "execution_count": 69,
   "metadata": {},
   "outputs": [
    {
     "data": {
      "text/plain": [
       "['product', 'brand', 'price']"
      ]
     },
     "execution_count": 69,
     "metadata": {},
     "output_type": "execute_result"
    }
   ],
   "source": [
    ">>> file=open('pricelist.csv','r',newline='')\n",
    ">>> obj=csv.DictReader(file)\n",
    ">>> obj.fieldnames"
   ]
  },
  {
   "cell_type": "code",
   "execution_count": 70,
   "metadata": {},
   "outputs": [
    {
     "name": "stdout",
     "output_type": "stream",
     "text": [
      "{'product': 'TV', 'brand': 'Samsung', 'price': '25000'}\n",
      "{'product': 'Computer', 'brand': 'Dell', 'price': '40000'}\n",
      "{'product': 'Mobile', 'brand': 'Redmi', 'price': '15000'}\n"
     ]
    }
   ],
   "source": [
    ">>> for row in obj:\n",
    "\t   print (dict(row))"
   ]
  },
  {
   "cell_type": "markdown",
   "metadata": {},
   "source": [
    "### Example 6.23"
   ]
  },
  {
   "cell_type": "code",
   "execution_count": 71,
   "metadata": {},
   "outputs": [
    {
     "data": {
      "text/plain": [
       "'[{\"brand\": \"Samsung\", \"price\": 25000, \"product\": \"TV\"}, {\"brand\": \"Dell\", \"price\": 40000, \"product\": \"Computer\"}, {\"brand\": \"Redmi\", \"price\": 15000, \"product\": \"Mobile\"}]'"
      ]
     },
     "execution_count": 71,
     "metadata": {},
     "output_type": "execute_result"
    }
   ],
   "source": [
    ">>> import json\n",
    ">>> data=[{'product':'TV','brand':'Samsung','price':25000}, {'product':'Computer','brand':'Dell','price':40000},{'product':'Mobile','brand':'Redmi','price':15000}]\n",
    ">>> JString=json.dumps(data, sort_keys=True)\n",
    ">>> JString"
   ]
  },
  {
   "cell_type": "markdown",
   "metadata": {},
   "source": [
    "### Example 6.24"
   ]
  },
  {
   "cell_type": "code",
   "execution_count": 72,
   "metadata": {},
   "outputs": [
    {
     "data": {
      "text/plain": [
       "[{'brand': 'Samsung', 'price': 25000, 'product': 'TV'},\n",
       " {'brand': 'Dell', 'price': 40000, 'product': 'Computer'},\n",
       " {'brand': 'Redmi', 'price': 15000, 'product': 'Mobile'}]"
      ]
     },
     "execution_count": 72,
     "metadata": {},
     "output_type": "execute_result"
    }
   ],
   "source": [
    ">>> string=json.loads(JString)\n",
    ">>> string"
   ]
  },
  {
   "cell_type": "markdown",
   "metadata": {},
   "source": [
    "### Example 6.25"
   ]
  },
  {
   "cell_type": "code",
   "execution_count": 73,
   "metadata": {},
   "outputs": [
    {
     "data": {
      "text/plain": [
       "[{'product': 'TV', 'brand': 'Samsung', 'price': 25000},\n",
       " {'product': 'Computer', 'brand': 'Dell', 'price': 40000},\n",
       " {'product': 'Mobile', 'brand': 'Redmi', 'price': 15000}]"
      ]
     },
     "execution_count": 73,
     "metadata": {},
     "output_type": "execute_result"
    }
   ],
   "source": [
    ">>> file=open('json.txt','w')\n",
    ">>> json.dump(data,file) \n",
    ">>> file=open('json.txt','r')\n",
    ">>> data=json.load(file)\n",
    ">>> data"
   ]
  },
  {
   "cell_type": "markdown",
   "metadata": {},
   "source": [
    "### Example 6.26"
   ]
  },
  {
   "cell_type": "code",
   "execution_count": 74,
   "metadata": {},
   "outputs": [],
   "source": [
    "import json\n",
    "class User:\n",
    "        def __init__(self,name, email, pw):\n",
    "                self.name=name\n",
    "                self.email=email\n",
    "                self.pw=pw\n",
    "        def __str__(self):\n",
    "            return ('Name: {} email: {} password: {}'. \\\n",
    "                       format(self.name, self.email, self.pw))\n",
    "\n",
    "class UserEncoder(json.JSONEncoder):\n",
    "    def default(self, z):\n",
    "        if isinstance(z, User):\n",
    "            return (z.name, z.email, z.pw)\n",
    "        else:\n",
    "            super().default(self, z)\n",
    "\n",
    "user1=User('Rajan','R@a.com','**')\n",
    "encoder=UserEncoder()\n",
    "obj=encoder.encode(user1)\n",
    "file=open('jsonOO.txt','w')\n",
    "json.dump(obj, file)\n",
    "file.close()"
   ]
  },
  {
   "cell_type": "markdown",
   "metadata": {},
   "source": [
    "### Example 6.28"
   ]
  },
  {
   "cell_type": "code",
   "execution_count": 75,
   "metadata": {},
   "outputs": [
    {
     "name": "stdout",
     "output_type": "stream",
     "text": [
      "['Rajan', 'R@a.com', '**']\n"
     ]
    }
   ],
   "source": [
    "import json\n",
    "class UserDecoder(json.JSONDecoder):\n",
    "        def __init__(self):\n",
    "                json.JSONDecoder.__init__(self,object_hook=self.hook)\n",
    "        def hook(self,obj):\n",
    "                return dict(obj)\n",
    "\n",
    "decoder=UserDecoder()\n",
    "file=open('jsonOO.txt','r')\n",
    "retobj=json.load(file)\n",
    "print (decoder.decode(retobj))"
   ]
  },
  {
   "cell_type": "markdown",
   "metadata": {},
   "source": [
    "### Example 6.30"
   ]
  },
  {
   "cell_type": "code",
   "execution_count": 76,
   "metadata": {},
   "outputs": [
    {
     "data": {
      "text/plain": [
       "'PriceList'"
      ]
     },
     "execution_count": 76,
     "metadata": {},
     "output_type": "execute_result"
    }
   ],
   "source": [
    ">>> import xml.etree.ElementTree as xmlobj\n",
    ">>> root=xmlobj.Element('PriceList')\n",
    ">>> root.tag"
   ]
  },
  {
   "cell_type": "code",
   "execution_count": 77,
   "metadata": {},
   "outputs": [
    {
     "data": {
      "text/plain": [
       "{}"
      ]
     },
     "execution_count": 77,
     "metadata": {},
     "output_type": "execute_result"
    }
   ],
   "source": [
    ">>> root.attrib"
   ]
  },
  {
   "cell_type": "code",
   "execution_count": 78,
   "metadata": {},
   "outputs": [],
   "source": [
    ">>> product=xmlobj.Element('Product')\n",
    ">>> nm=xmlobj.SubElement(product, 'name')\n",
    ">>> nm.text='name'\n",
    ">>> brand=xmlobj.SubElement(product, 'brand')\n",
    ">>> nm.text='TV'\n",
    ">>> brand.text='Samsung'\n",
    ">>> price=xmlobj.SubElement(product, 'price')\n",
    ">>> price.text='25000'"
   ]
  },
  {
   "cell_type": "code",
   "execution_count": 79,
   "metadata": {},
   "outputs": [],
   "source": [
    ">>> root.append(product)"
   ]
  },
  {
   "cell_type": "code",
   "execution_count": 80,
   "metadata": {},
   "outputs": [],
   "source": [
    ">>> tree=xmlobj.ElementTree(root)\n",
    ">>> file=open('pricelist.xml','wb')\n",
    ">>> tree.write(file)\n",
    ">>> file.close()"
   ]
  },
  {
   "cell_type": "markdown",
   "metadata": {},
   "source": [
    "### Example 6.34"
   ]
  },
  {
   "cell_type": "code",
   "execution_count": 81,
   "metadata": {},
   "outputs": [
    {
     "name": "stdout",
     "output_type": "stream",
     "text": [
      "1\n",
      "2\n",
      "3\n"
     ]
    }
   ],
   "source": [
    "import xml.etree.ElementTree as xmlobj\n",
    "root=xmlobj.Element('PriceList')\n",
    "pricelist=[{'name':'TV','brand':'Samsung','price':'25000'},\n",
    "           {'name':'Computer','brand':'Dell','price':'40000'},\n",
    "           {'name':'Mobile','brand':'Redmi','price':'15000'}]\n",
    "i=0\n",
    "for row in pricelist:\n",
    "        i=i+1\n",
    "        print (i)\n",
    "        element=xmlobj.Element('Product'+str(i))\n",
    "        for k,v in row.items():\n",
    "                sub=xmlobj.SubElement(element, k)\n",
    "                sub.text=v\n",
    "        root.append(element)\n",
    "\n",
    "tree=xmlobj.ElementTree(root)\n",
    "file=open('pricelist.xml','wb')\n",
    "tree.write(file)\n",
    "file.close() "
   ]
  },
  {
   "cell_type": "markdown",
   "metadata": {},
   "source": [
    "### Example 6.38"
   ]
  },
  {
   "cell_type": "code",
   "execution_count": 82,
   "metadata": {},
   "outputs": [
    {
     "name": "stdout",
     "output_type": "stream",
     "text": [
      "[{'name': 'TV', 'brand': 'Samsung', 'price': '25000'}, {'name': 'Computer', 'brand': 'Dell', 'price': '40000'}, {'name': 'Mobile', 'brand': 'Redmi', 'price': '15000'}]\n"
     ]
    }
   ],
   "source": [
    "import xml.etree.ElementTree as xmlobj\n",
    "tree = xmlobj.ElementTree(file='pricelist.xml')\n",
    "root = tree.getroot()\n",
    "products=[]\n",
    "children = root.getchildren()\n",
    "for child in children:\n",
    "        product={}\n",
    "        pairs = child.getchildren()\n",
    "        for pair in pairs:\n",
    "            product[pair.tag]=pair.text\n",
    "        products.append(product)\n",
    "print (products)"
   ]
  },
  {
   "cell_type": "markdown",
   "metadata": {},
   "source": [
    "### Example 6.39"
   ]
  },
  {
   "cell_type": "code",
   "execution_count": 83,
   "metadata": {},
   "outputs": [],
   "source": [
    "import plistlib\n",
    "proplist = {\n",
    "\"name\" : \"Ramesh\",\n",
    "\"class\":\"XII\",\n",
    "\"div\":\"B\",\n",
    "\"marks\" : {\"phy\":50, \"che\":60, \"maths\":80}\n",
    "}\n",
    "\n",
    "fileName=open('marks.plist','wb')\n",
    "plistlib.dump(proplist, fileName)\n",
    "fileName.close()"
   ]
  },
  {
   "cell_type": "markdown",
   "metadata": {},
   "source": [
    "### Example 6.40"
   ]
  },
  {
   "cell_type": "code",
   "execution_count": 84,
   "metadata": {},
   "outputs": [
    {
     "name": "stdout",
     "output_type": "stream",
     "text": [
      "{'class': 'XII', 'div': 'B', 'marks': {'che': 60, 'maths': 80, 'phy': 50}, 'name': 'Ramesh'}\n"
     ]
    }
   ],
   "source": [
    "with open('marks.plist', 'rb') as fp:\n",
    "        pl = plistlib.load(fp)\n",
    "        print(pl)"
   ]
  }
 ],
 "metadata": {
  "kernelspec": {
   "display_name": "Python 3",
   "language": "python",
   "name": "python3"
  },
  "language_info": {
   "codemirror_mode": {
    "name": "ipython",
    "version": 3
   },
   "file_extension": ".py",
   "mimetype": "text/x-python",
   "name": "python",
   "nbconvert_exporter": "python",
   "pygments_lexer": "ipython3",
   "version": "3.6.8"
  }
 },
 "nbformat": 4,
 "nbformat_minor": 2
}
