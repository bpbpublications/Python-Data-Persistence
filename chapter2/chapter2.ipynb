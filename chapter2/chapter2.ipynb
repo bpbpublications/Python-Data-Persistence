{
 "cells": [
  {
   "cell_type": "markdown",
   "metadata": {},
   "source": [
    "# <center>Chapter 2</center>\n",
    "## <center>Program Flow Control</center>"
   ]
  },
  {
   "cell_type": "markdown",
   "metadata": {},
   "source": [
    "### Example 2.3\n",
    "Save following code as tax1.py and run from command prompt\n",
    "\n",
    "<b>python tax1.py</b>"
   ]
  },
  {
   "cell_type": "code",
   "execution_count": 1,
   "metadata": {},
   "outputs": [
    {
     "name": "stdout",
     "output_type": "stream",
     "text": [
      "enter salary..75000\n",
      "Salary=75000 tax=7500.0 net payable=67500.0\n"
     ]
    }
   ],
   "source": [
    "#tax1.py\n",
    "salary=int(input(\"enter salary..\"))\n",
    "tax=0\n",
    "if salary>=50000:\n",
    "        #tax @10%\n",
    "        tax=salary*10/100\n",
    "net_sal=salary-tax\n",
    "print (\"Salary={} tax={} net payable={}\".format(salary, tax, net_sal))"
   ]
  },
  {
   "cell_type": "markdown",
   "metadata": {},
   "source": [
    "### Example 2.5\n",
    "Save following code as tax2.py and run from command prompt\n",
    "\n",
    "<b>python tax2.py</b>"
   ]
  },
  {
   "cell_type": "code",
   "execution_count": 2,
   "metadata": {},
   "outputs": [
    {
     "name": "stdout",
     "output_type": "stream",
     "text": [
      "enter salary..75000\n",
      "Salary=75000 tax=7500.0 net payable=67500.0\n"
     ]
    }
   ],
   "source": [
    "#tax2.py\n",
    "salary=int(input(\"enter salary..\"))\n",
    "tax=0\n",
    "if salary>=50000:\n",
    "        #tax @10%\n",
    "        tax=salary*10/100\n",
    "else:\n",
    "        #tax@5%\n",
    "        tax=salary*5/100\n",
    "net_sal=salary-tax\n",
    "print (\"Salary={} tax={} net payable={}\".format(salary, tax, net_sal))"
   ]
  },
  {
   "cell_type": "markdown",
   "metadata": {},
   "source": [
    "### Example 2.6\n",
    "Save following code as tax3.py and run from command prompt\n",
    "\n",
    "<b>python tax3.py</b>"
   ]
  },
  {
   "cell_type": "code",
   "execution_count": 3,
   "metadata": {},
   "outputs": [
    {
     "name": "stdout",
     "output_type": "stream",
     "text": [
      "enter salary..75000\n",
      "Salary=75000 tax=7500.0 net payable=67500.0\n"
     ]
    }
   ],
   "source": [
    "#tax3.py\n",
    "salary=int(input(\"enter salary..\"))\n",
    "tax=0\n",
    "if salary>=50000:\n",
    "        #tax @10%\n",
    "        tax=salary*10/100\n",
    "else:\n",
    "        if salary>25000:\n",
    "                #tax @5%\n",
    "                tax=salary*5/100\n",
    "        else:\n",
    "                if salary>10000:\n",
    "                        #tax @2%\n",
    "                        tax=salary*2/100\n",
    "                else:\n",
    "                        #no tax\n",
    "                        print (\"No tax applicable\")\n",
    "net_sal=salary-tax\n",
    "print (\"Salary={} tax={} net payable={}\".format(salary, tax, net_sal))"
   ]
  },
  {
   "cell_type": "markdown",
   "metadata": {},
   "source": [
    "### Example 2.8\n",
    "Save following code as tax4.py and run from command prompt\n",
    "\n",
    "<b>python tax4.py</b>"
   ]
  },
  {
   "cell_type": "code",
   "execution_count": 4,
   "metadata": {},
   "outputs": [
    {
     "name": "stdout",
     "output_type": "stream",
     "text": [
      "enter salary..75000\n",
      "Salary=75000 tax=7500.0 net payable=67500.0\n"
     ]
    }
   ],
   "source": [
    "#tax4.py\n",
    "salary=int(input(\"enter salary..\"))\n",
    "tax=0\n",
    "if salary>=50000:\n",
    "        #tax @10%\n",
    "        tax=salary*10/100\n",
    "elif salary>25000:\n",
    "        #tax @5%\n",
    "        tax=salary*5/100\n",
    "elif salary>10000:\n",
    "        #tax @2%\n",
    "        tax=salary*2/100\n",
    "else:\n",
    "        #no tax\n",
    "        print (\"No tax applicable\")\n",
    "net_sal=salary-tax\n",
    "print (\"Salary={} tax={} net payable={}\".format(salary, tax, net_sal))"
   ]
  },
  {
   "cell_type": "markdown",
   "metadata": {},
   "source": [
    "### Example 2.10\n",
    "Save following code as while-1.py and run from command prompt\n",
    "\n",
    "<b>python while-1.py</b>"
   ]
  },
  {
   "cell_type": "code",
   "execution_count": 5,
   "metadata": {},
   "outputs": [
    {
     "name": "stdout",
     "output_type": "stream",
     "text": [
      "This is count number 1\n",
      "This is count number 2\n",
      "This is count number 3\n",
      "This is count number 4\n",
      "This is count number 5\n",
      "end of 5 repetitions\n"
     ]
    }
   ],
   "source": [
    "#while-1.py\n",
    "count=0\n",
    "while count<5:\n",
    "        #count repetitions\n",
    "        count=count+1\n",
    "        print (\"This is count number\",count)\n",
    "print (\"end of 5 repetitions\")"
   ]
  },
  {
   "cell_type": "markdown",
   "metadata": {},
   "source": [
    "### Example 2.11\n",
    "Save following code as fibolist.py and run from command prompt\n",
    "\n",
    "<b>python fibolist.py</b>"
   ]
  },
  {
   "cell_type": "code",
   "execution_count": 6,
   "metadata": {},
   "outputs": [
    {
     "name": "stdout",
     "output_type": "stream",
     "text": [
      "Fibonacci series: [0, 1, 1, 2, 3, 5, 8, 13, 21, 34, 55, 89]\n"
     ]
    }
   ],
   "source": [
    "#fibolist.py\n",
    "FiboList=[]\n",
    "i=0\n",
    "max=1\n",
    "FiboList.append(i)\n",
    "FiboList.append(max)\n",
    "while i<10:\n",
    "        #next number is sum of previous two\n",
    "        max=FiboList[i]+FiboList[i+1]\n",
    "        FiboList.append(max)\n",
    "        i=i+1\n",
    "print ('Fibonacci series:',FiboList)"
   ]
  },
  {
   "cell_type": "markdown",
   "metadata": {},
   "source": [
    "### Example 2.13\n",
    "Save following code as for-1.py and run from command prompt\n",
    "\n",
    "<b>python for-1.py</b>"
   ]
  },
  {
   "cell_type": "code",
   "execution_count": 7,
   "metadata": {},
   "outputs": [
    {
     "name": "stdout",
     "output_type": "stream",
     "text": [
      "sqaure of 4 is 16\n",
      "sqaure of 7 is 49\n",
      "sqaure of 2 is 4\n",
      "sqaure of 5 is 25\n",
      "sqaure of 8 is 64\n"
     ]
    }
   ],
   "source": [
    "#for-1.py\n",
    "numbers=[4,7,2,5,8]\n",
    "for num in numbers:\n",
    "        sqr=num*num\n",
    "        print ('sqaure of {} is {}'.format(num,sqr))"
   ]
  },
  {
   "cell_type": "markdown",
   "metadata": {},
   "source": [
    "### Example 2.14\n",
    "Save following code as for-2.py and run from command prompt\n",
    "\n",
    "<b>python for-2.py</b>"
   ]
  },
  {
   "cell_type": "code",
   "execution_count": 8,
   "metadata": {},
   "outputs": [
    {
     "name": "stdout",
     "output_type": "stream",
     "text": [
      "the sentence has 11 words\n"
     ]
    }
   ],
   "source": [
    "#for-2.py\n",
    "sentence='Simple is better than complex and Complex is better than complicated.'\n",
    "wordcount=1\n",
    "for char in sentence:\n",
    "        if char==' ':\n",
    "                wordcount=wordcount+1\n",
    "print ('the sentence has {} words'.format(wordcount))"
   ]
  },
  {
   "cell_type": "markdown",
   "metadata": {},
   "source": [
    "### Example 2.16\n",
    "Save following code as for-3.py and run from command prompt\n",
    "\n",
    "<b>python for-3.py</b>"
   ]
  },
  {
   "cell_type": "code",
   "execution_count": 9,
   "metadata": {},
   "outputs": [
    {
     "name": "stdout",
     "output_type": "stream",
     "text": [
      "sqaure of 11 is 121\n",
      "sqaure of 13 is 169\n",
      "sqaure of 15 is 225\n",
      "sqaure of 17 is 289\n",
      "sqaure of 19 is 361\n"
     ]
    }
   ],
   "source": [
    "#for-3.py\n",
    "for num in range(11,21,2):\n",
    "        sqr=num*num\n",
    "        print ('sqaure of {} is {}'.format(num,sqr))"
   ]
  },
  {
   "cell_type": "markdown",
   "metadata": {},
   "source": [
    "### Example 2.17\n",
    "Save following code as for-4.py and run from command prompt\n",
    "\n",
    "<b>python for-4.py</b>"
   ]
  },
  {
   "cell_type": "code",
   "execution_count": 10,
   "metadata": {},
   "outputs": [
    {
     "name": "stdout",
     "output_type": "stream",
     "text": [
      "sqaure of 4 is 16\n",
      "sqaure of 7 is 49\n",
      "sqaure of 2 is 4\n",
      "sqaure of 5 is 25\n",
      "sqaure of 8 is 64\n"
     ]
    }
   ],
   "source": [
    "#for-4.py\n",
    "numbers=[4,7,2,5,8]\n",
    "for indx in range(len(numbers)):\n",
    "    sqr=numbers[indx]*numbers[indx]\n",
    "    print ('sqaure of {} is {}'.format(numbers[indx],sqr))"
   ]
  },
  {
   "cell_type": "markdown",
   "metadata": {},
   "source": [
    "### Example 2.18\n",
    "Save following code as factorial.py and run from command prompt\n",
    "\n",
    "<b>python factorial.py</b>"
   ]
  },
  {
   "cell_type": "code",
   "execution_count": 11,
   "metadata": {},
   "outputs": [
    {
     "name": "stdout",
     "output_type": "stream",
     "text": [
      "enter number..5\n",
      "factorial of 5 = 120\n"
     ]
    }
   ],
   "source": [
    "#factorial.py\n",
    "n=int(input(\"enter number..\"))\n",
    "#calculating factorial of n \n",
    "f=1\n",
    "for i in range(1,n+1):\n",
    "        f=f*i\n",
    "print ('factorial of {} = {}'.format(n,f))"
   ]
  },
  {
   "cell_type": "markdown",
   "metadata": {},
   "source": [
    "### Example 2.19\n",
    "Save following code as for-5.py and run from command prompt\n",
    "\n",
    "<b>python for-5.py</b>"
   ]
  },
  {
   "cell_type": "code",
   "execution_count": 12,
   "metadata": {
    "scrolled": true
   },
   "outputs": [
    {
     "name": "stdout",
     "output_type": "stream",
     "text": [
      "('Maharashtra', 'Bombay')\n",
      "('Andhra Pradesh', 'Hyderabad')\n",
      "('UP', 'Lucknow')\n",
      "('MP', 'Bhopal')\n"
     ]
    }
   ],
   "source": [
    "#for-5.py\n",
    "dict1={'Maharashtra': 'Bombay', 'Andhra Pradesh': 'Hyderabad', 'UP': 'Lucknow', 'MP': 'Bhopal'}\n",
    "for pair in dict1.items():\n",
    "        print (pair)"
   ]
  },
  {
   "cell_type": "markdown",
   "metadata": {},
   "source": [
    "### Example 2.20\n",
    "Save following code as for-6.py and run from command prompt\n",
    "\n",
    "<b>python for-6.py</b>"
   ]
  },
  {
   "cell_type": "code",
   "execution_count": 13,
   "metadata": {},
   "outputs": [
    {
     "name": "stdout",
     "output_type": "stream",
     "text": [
      "capital of Maharashtra is Bombay.\n",
      "capital of Andhra Pradesh is Hyderabad.\n",
      "capital of UP is Lucknow.\n",
      "capital of MP is Bhopal.\n"
     ]
    }
   ],
   "source": [
    "#for-6.py\n",
    "dict1={'Maharashtra': 'Bombay', 'Andhra Pradesh': 'Hyderabad', 'UP': 'Lucknow', 'MP': 'Bhopal'}\n",
    "for k,v in dict1.items():\n",
    "    print ('capital of {} is {}.'.format(k,v))"
   ]
  },
  {
   "cell_type": "markdown",
   "metadata": {},
   "source": [
    "### Example 2.21\n",
    "Save following code as for-7.py and run from command prompt\n",
    "\n",
    "<b>python for-7.py</b>"
   ]
  },
  {
   "cell_type": "code",
   "execution_count": 14,
   "metadata": {},
   "outputs": [
    {
     "name": "stdout",
     "output_type": "stream",
     "text": [
      "capital of Maharashtra is Bombay.\n",
      "capital of Andhra Pradesh is Hyderabad.\n",
      "capital of UP is Lucknow.\n",
      "capital of MP is Bhopal.\n"
     ]
    }
   ],
   "source": [
    "#for-7.py\n",
    "dict1={'Maharashtra': 'Bombay', 'Andhra Pradesh': 'Hyderabad', 'UP': 'Lucknow', 'MP': 'Bhopal'}\n",
    "for k in dict1.keys():\n",
    "    state=k\n",
    "    capital=dict1.get(k)\n",
    "    print ('capital of {} is {}.'.format(state,capital))"
   ]
  },
  {
   "cell_type": "markdown",
   "metadata": {},
   "source": [
    "### Example 2.22\n",
    "Save following code as secret-number.py and run from command prompt\n",
    "\n",
    "<b>python secret-number.py</b>"
   ]
  },
  {
   "cell_type": "code",
   "execution_count": 15,
   "metadata": {},
   "outputs": [
    {
     "name": "stdout",
     "output_type": "stream",
     "text": [
      "enter your guess..5\n",
      "enter your guess..9\n",
      "enter your guess..1\n",
      "enter your guess..6\n",
      "you got that right!\n"
     ]
    }
   ],
   "source": [
    "#secret-number.py\n",
    "import random\n",
    "secret=random.randint(1,10)\n",
    "chances=0\n",
    "while chances<10:\n",
    "        guess=int(input('enter your guess..'))\n",
    "        if guess==secret:\n",
    "                print ('you got that right!')\n",
    "                break\n",
    "                print ('try again..')\n",
    "\n",
    "                chances=chances+1\n",
    "                if chances==10:\n",
    "                        print ('chances exhausted. secret number is:',secret)"
   ]
  },
  {
   "cell_type": "markdown",
   "metadata": {},
   "source": [
    "### Example 2.23\n",
    "Save following code as continue-example.py and run from command prompt\n",
    "\n",
    "<b>python continue-example.py</b>"
   ]
  },
  {
   "cell_type": "code",
   "execution_count": 16,
   "metadata": {},
   "outputs": [
    {
     "name": "stdout",
     "output_type": "stream",
     "text": [
      "enter a number..10\n",
      "enter a number..35\n",
      "enter a number..25\n",
      "enter a number..-100\n",
      "negative number is not accepted. Try again..\n",
      "enter a number..11\n",
      "enter a number..22\n",
      "sum= 103\n"
     ]
    }
   ],
   "source": [
    "#continue-example.py\n",
    "count=1\n",
    "sum=0\n",
    "while count<=5:\n",
    "        num=int(input('enter a number..'))\n",
    "        if num<0:\n",
    "                print ('negative number is not accepted. Try again..')\n",
    "                continue\n",
    "        sum=sum+num\n",
    "        count=count+1\n",
    "print ('sum=',sum) "
   ]
  },
  {
   "cell_type": "markdown",
   "metadata": {},
   "source": [
    "### Example 2.25\n",
    "\n",
    "Save following code as else-in-loop.py and run from command prompt\n",
    "\n",
    "<b>python else-in-loop.py</b>"
   ]
  },
  {
   "cell_type": "code",
   "execution_count": 17,
   "metadata": {},
   "outputs": [
    {
     "name": "stdout",
     "output_type": "stream",
     "text": [
      "enter a number..17\n",
      "17 is prime.\n",
      "end of program\n"
     ]
    }
   ],
   "source": [
    "#else-in-loop.py\n",
    "num=int(input(\"enter a number..\"))\n",
    "x=2\n",
    "while x<num:\n",
    "        if num%x==0:\n",
    "                print (\"{} is not prime.\".format(num))\n",
    "                break\n",
    "        x=x+1\n",
    "else:\n",
    "        print (\"{} is prime.\".format(num))\n",
    "print ('end of program')\n"
   ]
  },
  {
   "cell_type": "markdown",
   "metadata": {},
   "source": [
    "### Example 2.26\n",
    "\n",
    "Save following code as nestedfor.py and run from command prompt\n",
    "\n",
    "<b>python nestedfor.py</b>"
   ]
  },
  {
   "cell_type": "code",
   "execution_count": 18,
   "metadata": {},
   "outputs": [
    {
     "name": "stdout",
     "output_type": "stream",
     "text": [
      "1 2 3 5 7 11 13 17 19 23 29 31 37 41 43 47 53 59 61 67 71 73 79 83 89 97 "
     ]
    }
   ],
   "source": [
    "#nestedfor.py\n",
    "for num in range(1,101):\n",
    "        for x in range(2,num):\n",
    "                if num%x==0:\n",
    "                        break\n",
    "                x=x+1\n",
    "        else:\n",
    "                print (num,sep=' ', end=' ')"
   ]
  },
  {
   "cell_type": "markdown",
   "metadata": {},
   "source": [
    "### Example 2.27"
   ]
  },
  {
   "cell_type": "code",
   "execution_count": 19,
   "metadata": {},
   "outputs": [
    {
     "name": "stdout",
     "output_type": "stream",
     "text": [
      "new list: [16, 49, 4, 25, 64]\n"
     ]
    }
   ],
   "source": [
    "#new list with loop\n",
    "list1=[4,7,2,5,8]\n",
    "list2=[]\n",
    "for num in list1:\n",
    "        sqr=num*num\n",
    "        list2.append(sqr)\n",
    "print ('new list:', list2)"
   ]
  },
  {
   "cell_type": "markdown",
   "metadata": {},
   "source": [
    "### Example 2.28"
   ]
  },
  {
   "cell_type": "code",
   "execution_count": 20,
   "metadata": {},
   "outputs": [
    {
     "data": {
      "text/plain": [
       "[16, 49, 4, 25, 64]"
      ]
     },
     "execution_count": 20,
     "metadata": {},
     "output_type": "execute_result"
    }
   ],
   "source": [
    ">>> list1=[4,7,2,5,8]\n",
    ">>> list2=[num*num for num in list1]\n",
    ">>> list2"
   ]
  },
  {
   "cell_type": "markdown",
   "metadata": {},
   "source": [
    "### Example 2.29"
   ]
  },
  {
   "cell_type": "code",
   "execution_count": 21,
   "metadata": {},
   "outputs": [
    {
     "data": {
      "text/plain": [
       "[{4: 16}, {7: 49}, {2: 4}, {5: 25}, {8: 64}]"
      ]
     },
     "execution_count": 21,
     "metadata": {},
     "output_type": "execute_result"
    }
   ],
   "source": [
    ">>> list1=[4,7,2,5,8]\n",
    ">>> dict1=[{num:num*num} for num in list1]\n",
    ">>> dict1"
   ]
  },
  {
   "cell_type": "markdown",
   "metadata": {},
   "source": [
    "### Example 2.30"
   ]
  },
  {
   "cell_type": "code",
   "execution_count": 22,
   "metadata": {},
   "outputs": [
    {
     "data": {
      "text/plain": [
       "['A1', 'A2', 'A3', 'B1', 'B2', 'B3', 'C1', 'C2', 'C3']"
      ]
     },
     "execution_count": 22,
     "metadata": {},
     "output_type": "execute_result"
    }
   ],
   "source": [
    ">>> list1=[x+y for x in 'ABC' for y in '123']\n",
    ">>> list1"
   ]
  },
  {
   "cell_type": "markdown",
   "metadata": {},
   "source": [
    "### Example 2.31"
   ]
  },
  {
   "cell_type": "code",
   "execution_count": 23,
   "metadata": {},
   "outputs": [
    {
     "data": {
      "text/plain": [
       "['S',\n",
       " 'm',\n",
       " 'p',\n",
       " 'l',\n",
       " ' ',\n",
       " 's',\n",
       " ' ',\n",
       " 'b',\n",
       " 't',\n",
       " 't',\n",
       " 'r',\n",
       " ' ',\n",
       " 't',\n",
       " 'h',\n",
       " 'n',\n",
       " ' ',\n",
       " 'c',\n",
       " 'm',\n",
       " 'p',\n",
       " 'l',\n",
       " 'x']"
      ]
     },
     "execution_count": 23,
     "metadata": {},
     "output_type": "execute_result"
    }
   ],
   "source": [
    ">>> consonents=[char for char in \"Simple is better than complex\" if char not in ['a','e','i','o','u']]\n",
    ">>> consonents"
   ]
  }
 ],
 "metadata": {
  "kernelspec": {
   "display_name": "Python 3",
   "language": "python",
   "name": "python3"
  },
  "language_info": {
   "codemirror_mode": {
    "name": "ipython",
    "version": 3
   },
   "file_extension": ".py",
   "mimetype": "text/x-python",
   "name": "python",
   "nbconvert_exporter": "python",
   "pygments_lexer": "ipython3",
   "version": "3.6.8"
  }
 },
 "nbformat": 4,
 "nbformat_minor": 2
}
