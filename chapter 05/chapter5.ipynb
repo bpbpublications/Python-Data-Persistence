{
 "cells": [
  {
   "cell_type": "markdown",
   "metadata": {},
   "source": [
    "# <center>Chapter 5</center>\n",
    "## <center>File IO</center>"
   ]
  },
  {
   "cell_type": "markdown",
   "metadata": {},
   "source": [
    "### Example 5.1"
   ]
  },
  {
   "cell_type": "code",
   "execution_count": null,
   "metadata": {},
   "outputs": [],
   "source": [
    ">>> data=sys.stdin.read()\n",
    "Hello\n",
    "How are you?\n",
    ">>> data\n",
    "'Hello\\nHow are you?\\n'\n",
    ">>> data=sys.stdin.readline()\n",
    "Hello How are you?\n",
    ">>> data\n",
    "'Hello How are you?\\n'\n",
    ">>> sys.stdout.write(data)\n",
    "Hello How are you?\n",
    "19"
   ]
  },
  {
   "cell_type": "markdown",
   "metadata": {},
   "source": [
    "### Example 5.3"
   ]
  },
  {
   "cell_type": "code",
   "execution_count": 1,
   "metadata": {},
   "outputs": [
    {
     "ename": "FileNotFoundError",
     "evalue": "[Errno 2] No such file or directory: 'test.txt'",
     "output_type": "error",
     "traceback": [
      "\u001b[0;31m---------------------------------------------------------------------------\u001b[0m",
      "\u001b[0;31mFileNotFoundError\u001b[0m                         Traceback (most recent call last)",
      "\u001b[0;32m<ipython-input-1-75c683d3c6a5>\u001b[0m in \u001b[0;36m<module>\u001b[0;34m\u001b[0m\n\u001b[0;32m----> 1\u001b[0;31m \u001b[0mobj\u001b[0m\u001b[0;34m=\u001b[0m\u001b[0mopen\u001b[0m\u001b[0;34m(\u001b[0m\u001b[0;34m'test.txt'\u001b[0m\u001b[0;34m,\u001b[0m\u001b[0;34m'r'\u001b[0m\u001b[0;34m)\u001b[0m\u001b[0;34m\u001b[0m\u001b[0;34m\u001b[0m\u001b[0m\n\u001b[0m",
      "\u001b[0;31mFileNotFoundError\u001b[0m: [Errno 2] No such file or directory: 'test.txt'"
     ]
    }
   ],
   "source": [
    ">>> obj=open('test.txt','r')"
   ]
  },
  {
   "cell_type": "code",
   "execution_count": 2,
   "metadata": {},
   "outputs": [],
   "source": [
    ">>> obj=open('test.txt','w')\n",
    ">>> obj.close()"
   ]
  },
  {
   "cell_type": "markdown",
   "metadata": {},
   "source": [
    "### Example 5.4"
   ]
  },
  {
   "cell_type": "code",
   "execution_count": 3,
   "metadata": {},
   "outputs": [],
   "source": [
    ">>> obj=open('test.txt','w')\n",
    ">>> quote=\"'The best way to predict the future is to invent it.' - Alan Kay\"\n",
    ">>> obj.write(quote)\n",
    ">>> obj.close()"
   ]
  },
  {
   "cell_type": "markdown",
   "metadata": {},
   "source": [
    "### Example 5.5"
   ]
  },
  {
   "cell_type": "code",
   "execution_count": 4,
   "metadata": {},
   "outputs": [],
   "source": [
    ">>> file=open('top-quotes.txt','w')\n",
    ">>> quote=''''There are only two kinds of programming languages: those people always bitch about and those nobody uses.' - Bjarne Stroustrup\n",
    "'The only way to learn a new programming language is by writing programs in it.' -Dennis Ritchie\n",
    "'A computer would deserve to be called intelligent if it could deceive a human into believing that it was human.' – Alan Turing'''\n",
    ">>> file.write(quote)\n",
    ">>> file.close()"
   ]
  },
  {
   "cell_type": "markdown",
   "metadata": {},
   "source": [
    "### Example 5.6"
   ]
  },
  {
   "cell_type": "code",
   "execution_count": 5,
   "metadata": {},
   "outputs": [],
   "source": [
    ">>> file=open('top-quotes.txt','a')\n",
    ">>> quote=''''There are only two kinds of programming languages: those people always bitch about and those nobody uses.' - Bjarne Stroustrup\n",
    "'The only way to learn a new programming language is by writing programs in it.' -Dennis Ritchie\n",
    "'A computer would deserve to be called intelligent if it could deceive a human into believing that it was human.' – Alan Turing'''\n",
    ">>> file.write(quote)\n",
    ">>> file.close()"
   ]
  },
  {
   "cell_type": "markdown",
   "metadata": {},
   "source": [
    "### Example 5.7"
   ]
  },
  {
   "cell_type": "code",
   "execution_count": 6,
   "metadata": {},
   "outputs": [],
   "source": [
    ">>> file=open('top-quotes.txt','a')\n",
    ">>> quotes=[\n",
    "\t'programming languages have a devious influence. They shape our thinking habits - Edsger W. Dijkstra\\n',\n",
    "'programmers do programming not because they expect to get paid or get adulation by the public, but because it is fun to program - Linus Torvalds\\n',\n",
    "'A computer would deserve to be called intelligent if it could deceive a human into believing that it was human - Alan Turing\\n']\n",
    ">>> file.writelines(quotes)\n",
    ">>> file.close()"
   ]
  },
  {
   "cell_type": "markdown",
   "metadata": {},
   "source": [
    "### Example 5.8"
   ]
  },
  {
   "cell_type": "code",
   "execution_count": 7,
   "metadata": {},
   "outputs": [
    {
     "data": {
      "text/plain": [
       "\"'There are only two kinds of programming languages: those people always bitch about and those nobody uses.' - Bjarne Stroustrup\\n'The only way to learn a new programming language is by writing programs in it.' -Dennis Ritchie\\n'A computer would deserve to be called intelligent if it could deceive a human into believing that it was human.' – Alan Turing'There are only two kinds of programming languages: those people always bitch about and those nobody uses.' - Bjarne Stroustrup\\n'The only way to learn a new programming language is by writing programs in it.' -Dennis Ritchie\\n'A computer would deserve to be called intelligent if it could deceive a human into believing that it was human.' – Alan Turingprogramming languages have a devious influence. They shape our thinking habits - Edsger W. Dijkstra\\nprogrammers do programming not because they expect to get paid or get adulation by the public, but because it is fun to program - Linus Torvalds\\nA computer would deserve to be called intelligent if it could deceive a human into believing that it was human - Alan Turing\\n\""
      ]
     },
     "execution_count": 7,
     "metadata": {},
     "output_type": "execute_result"
    }
   ],
   "source": [
    ">>> file=open('top-quotes.txt','r')\n",
    ">>> text=file.read()\n",
    ">>> text"
   ]
  },
  {
   "cell_type": "markdown",
   "metadata": {},
   "source": [
    "### Example 5.9"
   ]
  },
  {
   "cell_type": "code",
   "execution_count": 8,
   "metadata": {},
   "outputs": [
    {
     "data": {
      "text/plain": [
       "\"'There are only two kinds of programming languages: those people \""
      ]
     },
     "execution_count": 8,
     "metadata": {},
     "output_type": "execute_result"
    }
   ],
   "source": [
    ">>> file=open('top-quotes.txt','r')\n",
    ">>> text=file.read(65)\n",
    ">>> text"
   ]
  },
  {
   "cell_type": "code",
   "execution_count": 9,
   "metadata": {
    "scrolled": true
   },
   "outputs": [
    {
     "name": "stdout",
     "output_type": "stream",
     "text": [
      "'There are only two kinds of programming languages: those people always bitch about and those nobody uses.' - Bjarne Stroustrup\n",
      "'The only way to learn a new programming language is by writing programs in it.' -Dennis Ritchie\n",
      "'A computer would deserve to be called intelligent if it could deceive a human into believing that it was human.' – Alan Turing'There are only two kinds of programming languages: those people always bitch about and those nobody uses.' - Bjarne Stroustrup\n",
      "'The only way to learn a new programming language is by writing programs in it.' -Dennis Ritchie\n",
      "'A computer would deserve to be called intelligent if it could deceive a human into believing that it was human.' – Alan Turingprogramming languages have a devious influence. They shape our thinking habits - Edsger W. Dijkstra\n",
      "programmers do programming not because they expect to get paid or get adulation by the public, but because it is fun to program - Linus Torvalds\n",
      "A computer would deserve to be called intelligent if it could deceive a human into believing that it was human - Alan Turing\n"
     ]
    }
   ],
   "source": [
    ">>> file=open('top-quotes.txt','r')\n",
    ">>> while True:\n",
    "\tline=file.readline()\n",
    "\tif line=='':break\n",
    "\tprint (line, end='')"
   ]
  },
  {
   "cell_type": "markdown",
   "metadata": {},
   "source": [
    "### Example 5.10"
   ]
  },
  {
   "cell_type": "code",
   "execution_count": 10,
   "metadata": {},
   "outputs": [
    {
     "name": "stdout",
     "output_type": "stream",
     "text": [
      "'There are only two kinds of programming languages: those people always bitch about and those nobody uses.' - Bjarne Stroustrup\n",
      "'The only way to learn a new programming language is by writing programs in it.' -Dennis Ritchie\n",
      "'A computer would deserve to be called intelligent if it could deceive a human into believing that it was human.' – Alan Turing'There are only two kinds of programming languages: those people always bitch about and those nobody uses.' - Bjarne Stroustrup\n",
      "'The only way to learn a new programming language is by writing programs in it.' -Dennis Ritchie\n",
      "'A computer would deserve to be called intelligent if it could deceive a human into believing that it was human.' – Alan Turingprogramming languages have a devious influence. They shape our thinking habits - Edsger W. Dijkstra\n",
      "programmers do programming not because they expect to get paid or get adulation by the public, but because it is fun to program - Linus Torvalds\n",
      "A computer would deserve to be called intelligent if it could deceive a human into believing that it was human - Alan Turing\n"
     ]
    }
   ],
   "source": [
    "f=open(\"top-quotes.txt\",\"r\")\n",
    "while True:\n",
    "        try:\n",
    "                line=next(f)\n",
    "                print (line, end=\"\")\n",
    "        except StopIteration:\n",
    "                break        \n",
    "f.close()"
   ]
  },
  {
   "cell_type": "markdown",
   "metadata": {},
   "source": [
    "### Example 5.11"
   ]
  },
  {
   "cell_type": "code",
   "execution_count": 11,
   "metadata": {},
   "outputs": [
    {
     "name": "stdout",
     "output_type": "stream",
     "text": [
      "'There are only two kinds of programming languages: those people always bitch about and those nobody uses.' - Bjarne Stroustrup\n",
      "'The only way to learn a new programming language is by writing programs in it.' -Dennis Ritchie\n",
      "'A computer would deserve to be called intelligent if it could deceive a human into believing that it was human.' – Alan Turing'There are only two kinds of programming languages: those people always bitch about and those nobody uses.' - Bjarne Stroustrup\n",
      "'The only way to learn a new programming language is by writing programs in it.' -Dennis Ritchie\n",
      "'A computer would deserve to be called intelligent if it could deceive a human into believing that it was human.' – Alan Turingprogramming languages have a devious influence. They shape our thinking habits - Edsger W. Dijkstra\n",
      "programmers do programming not because they expect to get paid or get adulation by the public, but because it is fun to program - Linus Torvalds\n",
      "A computer would deserve to be called intelligent if it could deceive a human into believing that it was human - Alan Turing\n"
     ]
    }
   ],
   "source": [
    "file=open(\"top-quotes.txt\",\"r\")\n",
    "for line in file:\n",
    "    print (line, end=\"\")\n",
    "file.close()"
   ]
  },
  {
   "cell_type": "markdown",
   "metadata": {},
   "source": [
    "### Example 5.12"
   ]
  },
  {
   "cell_type": "code",
   "execution_count": 12,
   "metadata": {},
   "outputs": [],
   "source": [
    ">>> f=open('binary.dat','wb')\n",
    ">>> data='Hello Python'\n",
    ">>> encoded=data.encode(encoding='utf-16')\n",
    ">>> encoded\n",
    "b'\\xff\\xfeH\\x00e\\x00l\\x00l\\x00o\\x00 \\x00P\\x00y\\x00t\\x00h\\x00o\\x00n\\x00'\n",
    ">>> f.write(encoded)\n",
    "26\n",
    ">>> f.close()"
   ]
  },
  {
   "cell_type": "markdown",
   "metadata": {},
   "source": [
    "### Example 5.13"
   ]
  },
  {
   "cell_type": "code",
   "execution_count": 13,
   "metadata": {},
   "outputs": [
    {
     "name": "stdout",
     "output_type": "stream",
     "text": [
      "Hello Python\n"
     ]
    }
   ],
   "source": [
    ">>> f=open('binary.dat','rb')\n",
    ">>> encoded=f.read()\n",
    ">>> data=encoded.decode(encoding='utf-16')\n",
    ">>> print (data)"
   ]
  },
  {
   "cell_type": "markdown",
   "metadata": {},
   "source": [
    "### Example 5.18"
   ]
  },
  {
   "cell_type": "code",
   "execution_count": 14,
   "metadata": {},
   "outputs": [],
   "source": [
    ">>> f=open('binary.dat','wb')\n",
    ">>> num=1234\n",
    ">>> bin1=num.to_bytes(16, 'big')\n",
    ">>> f.write(bin1)\n",
    ">>> f.close()"
   ]
  },
  {
   "cell_type": "markdown",
   "metadata": {},
   "source": [
    "### Example 5.15"
   ]
  },
  {
   "cell_type": "code",
   "execution_count": 15,
   "metadata": {},
   "outputs": [
    {
     "data": {
      "text/plain": [
       "1234"
      ]
     },
     "execution_count": 15,
     "metadata": {},
     "output_type": "execute_result"
    }
   ],
   "source": [
    ">>> f=open('binary.dat','rb')\n",
    ">>> data=f.read()\n",
    ">>> num=int.from_bytes(data,'big')\n",
    ">>> num"
   ]
  },
  {
   "cell_type": "markdown",
   "metadata": {},
   "source": [
    "### Example 5.16"
   ]
  },
  {
   "cell_type": "code",
   "execution_count": 16,
   "metadata": {},
   "outputs": [],
   "source": [
    ">>> import struct\n",
    ">>> num1=1234.56\n",
    ">>> f=open('binary.dat','wb')\n",
    ">>> binfloat=struct.pack('f',num1)\n",
    ">>> f.write(binfloat)\n",
    "4\n",
    ">>> f.close()"
   ]
  },
  {
   "cell_type": "markdown",
   "metadata": {},
   "source": [
    "### Example 5.17"
   ]
  },
  {
   "cell_type": "code",
   "execution_count": 17,
   "metadata": {},
   "outputs": [
    {
     "name": "stdout",
     "output_type": "stream",
     "text": [
      "(1234.56005859375,)\n"
     ]
    }
   ],
   "source": [
    ">>> f=open('binary.dat','rb')\n",
    ">>> data=f.read()\n",
    ">>> num1=struct.unpack('f', data)\n",
    ">>> f.close()\n",
    ">>> print (num1)"
   ]
  },
  {
   "cell_type": "markdown",
   "metadata": {},
   "source": [
    "### Example 5.18"
   ]
  },
  {
   "cell_type": "code",
   "execution_count": 18,
   "metadata": {},
   "outputs": [
    {
     "data": {
      "text/plain": [
       "'rat'"
      ]
     },
     "execution_count": 18,
     "metadata": {},
     "output_type": "execute_result"
    }
   ],
   "source": [
    ">>> file=open(\"testfile.txt\",\"w+\")\n",
    ">>> file.write(\"This is a rat race\")\n",
    ">>> file.seek(10,0) #seek 10th byte from beginning\n",
    ">>> txt=file.read(3) #read next 3 bytes\n",
    ">>> txt"
   ]
  },
  {
   "cell_type": "code",
   "execution_count": 19,
   "metadata": {},
   "outputs": [
    {
     "data": {
      "text/plain": [
       "'This is a cat race'"
      ]
     },
     "execution_count": 19,
     "metadata": {},
     "output_type": "execute_result"
    }
   ],
   "source": [
    ">>> file.seek(10,0) #seek 10th byte position\n",
    ">>> file.write('cat') #overwrite next 3 bytes\n",
    ">>> file.seek(0)\n",
    ">>> text=file.read() #read entire file\n",
    ">>> file.close()\n",
    ">>> text"
   ]
  },
  {
   "cell_type": "markdown",
   "metadata": {},
   "source": [
    "### Example 5.19"
   ]
  },
  {
   "cell_type": "code",
   "execution_count": 20,
   "metadata": {},
   "outputs": [
    {
     "data": {
      "text/plain": [
       "'Hello Python'"
      ]
     },
     "execution_count": 20,
     "metadata": {},
     "output_type": "execute_result"
    }
   ],
   "source": [
    ">>> import os\n",
    ">>> fd=os.open(\"testfile.txt\",os.O_RDWR|os.O_CREAT)\n",
    ">>> text=\"Hello Python\"\n",
    ">>> encoded=text.encode(encoding='utf-16')\n",
    ">>> os.write(fd, encoded)\n",
    ">>> os.lseek(fd,0,0)\n",
    ">>> os.path.getsize(\"testfile.txt\") #calculate file size\n",
    ">>> encoded=os.read(fd,26)\n",
    ">>> text=encoded.decode('utf-16')\n",
    ">>> text"
   ]
  },
  {
   "cell_type": "markdown",
   "metadata": {},
   "source": [
    "### Example 5.20"
   ]
  },
  {
   "cell_type": "code",
   "execution_count": 21,
   "metadata": {},
   "outputs": [
    {
     "data": {
      "text/plain": [
       "'/home/malhar/pdp-examples/chapter5/mydir'"
      ]
     },
     "execution_count": 21,
     "metadata": {},
     "output_type": "execute_result"
    }
   ],
   "source": [
    ">>> os.mkdir('mydir')\n",
    ">>> os.path.abspath('mydir')"
   ]
  },
  {
   "cell_type": "code",
   "execution_count": 22,
   "metadata": {},
   "outputs": [
    {
     "data": {
      "text/plain": [
       "'/home/malhar/pdp-examples/chapter5/mydir'"
      ]
     },
     "execution_count": 22,
     "metadata": {},
     "output_type": "execute_result"
    }
   ],
   "source": [
    ">>> os.chdir('mydir')\n",
    ">>> os.getcwd()"
   ]
  },
  {
   "cell_type": "markdown",
   "metadata": {},
   "source": [
    "### Example 5.21"
   ]
  },
  {
   "cell_type": "code",
   "execution_count": 23,
   "metadata": {},
   "outputs": [
    {
     "data": {
      "text/plain": [
       "'/home/malhar/pdp-examples/chapter5'"
      ]
     },
     "execution_count": 23,
     "metadata": {},
     "output_type": "execute_result"
    }
   ],
   "source": [
    ">>> os.chdir('..')\n",
    ">>> os.getcwd()"
   ]
  },
  {
   "cell_type": "code",
   "execution_count": 24,
   "metadata": {},
   "outputs": [],
   "source": [
    ">>> os.rmdir('mydir')"
   ]
  },
  {
   "cell_type": "markdown",
   "metadata": {},
   "source": [
    "### Example 5.22"
   ]
  },
  {
   "cell_type": "code",
   "execution_count": 25,
   "metadata": {},
   "outputs": [
    {
     "name": "stdout",
     "output_type": "stream",
     "text": [
      "enter a number..12\n",
      "enter another number..0\n"
     ]
    },
    {
     "ename": "ZeroDivisionError",
     "evalue": "division by zero",
     "output_type": "error",
     "traceback": [
      "\u001b[0;31m---------------------------------------------------------------------------\u001b[0m",
      "\u001b[0;31mZeroDivisionError\u001b[0m                         Traceback (most recent call last)",
      "\u001b[0;32m<ipython-input-25-9f02ea456991>\u001b[0m in \u001b[0;36m<module>\u001b[0;34m\u001b[0m\n\u001b[1;32m      1\u001b[0m \u001b[0mnum1\u001b[0m\u001b[0;34m=\u001b[0m\u001b[0mint\u001b[0m\u001b[0;34m(\u001b[0m\u001b[0minput\u001b[0m\u001b[0;34m(\u001b[0m\u001b[0;34m'enter a number..'\u001b[0m\u001b[0;34m)\u001b[0m\u001b[0;34m)\u001b[0m\u001b[0;34m\u001b[0m\u001b[0;34m\u001b[0m\u001b[0m\n\u001b[1;32m      2\u001b[0m \u001b[0mnum2\u001b[0m\u001b[0;34m=\u001b[0m\u001b[0mint\u001b[0m\u001b[0;34m(\u001b[0m\u001b[0minput\u001b[0m\u001b[0;34m(\u001b[0m\u001b[0;34m'enter another number..'\u001b[0m\u001b[0;34m)\u001b[0m\u001b[0;34m)\u001b[0m\u001b[0;34m\u001b[0m\u001b[0;34m\u001b[0m\u001b[0m\n\u001b[0;32m----> 3\u001b[0;31m \u001b[0mresult\u001b[0m\u001b[0;34m=\u001b[0m\u001b[0mnum1\u001b[0m\u001b[0;34m/\u001b[0m\u001b[0mnum2\u001b[0m\u001b[0;34m\u001b[0m\u001b[0;34m\u001b[0m\u001b[0m\n\u001b[0m\u001b[1;32m      4\u001b[0m \u001b[0mprint\u001b[0m \u001b[0;34m(\u001b[0m\u001b[0;34m'result: '\u001b[0m\u001b[0;34m,\u001b[0m \u001b[0mresult\u001b[0m\u001b[0;34m)\u001b[0m\u001b[0;34m\u001b[0m\u001b[0;34m\u001b[0m\u001b[0m\n",
      "\u001b[0;31mZeroDivisionError\u001b[0m: division by zero"
     ]
    }
   ],
   "source": [
    "num1=int(input('enter a number..'))\n",
    "num2=int(input('enter another number..'))\n",
    "result=num1/num2\n",
    "print ('result: ', result)"
   ]
  },
  {
   "cell_type": "markdown",
   "metadata": {},
   "source": [
    "### Example 5.23"
   ]
  },
  {
   "cell_type": "code",
   "execution_count": 26,
   "metadata": {},
   "outputs": [
    {
     "name": "stdout",
     "output_type": "stream",
     "text": [
      "enter a number..12\n",
      "enter another number..0\n",
      "error in division\n",
      "end of program\n"
     ]
    }
   ],
   "source": [
    "try:    \n",
    "    num1=int(input('enter a number..'))\n",
    "    num2=int(input('enter another number..'))\n",
    "    result=num1/num2\n",
    "    print ('result: ', result)\n",
    "except:\n",
    "    print (\"error in division\")\n",
    "print (\"end of program\")"
   ]
  },
  {
   "cell_type": "markdown",
   "metadata": {},
   "source": [
    "### Example 5.24"
   ]
  },
  {
   "cell_type": "code",
   "execution_count": 27,
   "metadata": {},
   "outputs": [
    {
     "name": "stdout",
     "output_type": "stream",
     "text": [
      "enter a number..12\n",
      "enter another number..0\n",
      "error message division by zero\n",
      "end of program\n"
     ]
    }
   ],
   "source": [
    "try:    \n",
    "    num1=int(input('enter a number..'))\n",
    "    num2=int(input('enter another number..'))\n",
    "    result=num1/num2\n",
    "    print ('result: ', result)\n",
    "except ZeroDivisionError as e:\n",
    "    print (\"error message\",e)\n",
    "print (\"end of program\")"
   ]
  },
  {
   "cell_type": "markdown",
   "metadata": {},
   "source": [
    "### Example 5.25\n",
    "Save Following file as tmp.py and run from command prompt\n",
    "\n",
    "<b>python tmp.py</b>"
   ]
  },
  {
   "cell_type": "code",
   "execution_count": 28,
   "metadata": {},
   "outputs": [
    {
     "name": "stdout",
     "output_type": "stream",
     "text": [
      "enter filename..nofile.txt\n",
      "error message [Errno 2] No such file or directory: 'nofile.txt'\n",
      "end of program\n"
     ]
    }
   ],
   "source": [
    "fn=input('enter filename..')\n",
    "\n",
    "try:    \n",
    "    f=open(fn,'r')\n",
    "    data=f.read()\n",
    "    print (data)\n",
    "except FileNotFoundError as e:\n",
    "    print (\"error message\",e)\n",
    "print (\"end of program\")"
   ]
  },
  {
   "cell_type": "markdown",
   "metadata": {},
   "source": [
    "### Example 5.26"
   ]
  },
  {
   "cell_type": "code",
   "execution_count": 29,
   "metadata": {},
   "outputs": [
    {
     "name": "stdout",
     "output_type": "stream",
     "text": [
      "error message not writable\n",
      "end of program\n"
     ]
    }
   ],
   "source": [
    "import io\n",
    "try:    \n",
    "    f=open('testfile.txt','r')\n",
    "    f.write('Hello')\n",
    "    print (data)\n",
    "except io.UnsupportedOperation as e:\n",
    "    print (\"error message\",e)\n",
    "print (\"end of program\")"
   ]
  },
  {
   "cell_type": "markdown",
   "metadata": {},
   "source": [
    "### Example 5.27"
   ]
  },
  {
   "cell_type": "code",
   "execution_count": 30,
   "metadata": {},
   "outputs": [
    {
     "name": "stdout",
     "output_type": "stream",
     "text": [
      "error message write() argument must be str, not int\n",
      "end of program\n"
     ]
    }
   ],
   "source": [
    "try:    \n",
    "    f=open('testfile.txt','w')\n",
    "    f.write(1234)\n",
    "except TypeError as e:\n",
    "    print (\"error message\",e)\n",
    "print (\"end of program\")"
   ]
  },
  {
   "cell_type": "markdown",
   "metadata": {},
   "source": [
    "### Example 5.28"
   ]
  },
  {
   "cell_type": "code",
   "execution_count": 31,
   "metadata": {},
   "outputs": [
    {
     "name": "stdout",
     "output_type": "stream",
     "text": [
      "error message a bytes-like object is required, not 'str'\n",
      "end of program\n"
     ]
    }
   ],
   "source": [
    "try:    \n",
    "    f=open('testfile.txt','wb')\n",
    "    f.write('Hello')\n",
    "except TypeError as e:\n",
    "    print (\"error message\",e)\n",
    "print (\"end of program\")"
   ]
  },
  {
   "cell_type": "markdown",
   "metadata": {},
   "source": [
    "### Example 5.29"
   ]
  },
  {
   "cell_type": "code",
   "execution_count": 32,
   "metadata": {},
   "outputs": [
    {
     "name": "stdout",
     "output_type": "stream",
     "text": [
      "error message [Errno 9] Bad file descriptor\n",
      "end of program\n"
     ]
    }
   ],
   "source": [
    "import os\n",
    "try:    \n",
    "    fd=os.open('testfile.txt',os.O_RDONLY|os.O_CREAT)\n",
    "    os.write(fd,'Hello'.encode())\n",
    "except OSError as e:\n",
    "    print (\"error message\",e)\n",
    "print (\"end of program\")"
   ]
  }
 ],
 "metadata": {
  "kernelspec": {
   "display_name": "Python 3",
   "language": "python",
   "name": "python3"
  }
 },
 "nbformat": 4,
 "nbformat_minor": 2
}
